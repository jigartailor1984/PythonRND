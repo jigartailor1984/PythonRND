{
 "cells": [
  {
   "cell_type": "markdown",
   "metadata": {},
   "source": [
    "# Demo to use indicators"
   ]
  },
  {
   "cell_type": "markdown",
   "metadata": {},
   "source": [
    "## Setup API Variables"
   ]
  },
  {
   "cell_type": "code",
   "execution_count": 3,
   "metadata": {},
   "outputs": [],
   "source": [
    "session_token=\"34916401\"\n",
    "api_key=\"^42y6975650632#94258t282@r718`77\"\n",
    "api_secret=\"i0td81HE339202156w96102D98497633\""
   ]
  },
  {
   "cell_type": "markdown",
   "metadata": {},
   "source": [
    "## Generate Sessions"
   ]
  },
  {
   "cell_type": "code",
   "execution_count": 4,
   "metadata": {},
   "outputs": [],
   "source": [
    "from breeze_connect import BreezeConnect\n",
    "\n",
    "# Initialize SDK\n",
    "breeze = BreezeConnect(api_key=api_key)\n",
    "\n",
    "# Obtain your session key from https://api.icicidirect.com/apiuser/login?api_key=YOUR_API_KEY\n",
    "# Incase your api-key has special characters(like +,=,!) then encode the api key before using in the url as shown below.\n",
    "# import urllib\n",
    "# print(\"https://api.icicidirect.com/apiuser/login?api_key=\"+urllib.parse.quote_plus(api_key))\n",
    "\n",
    "# Generate Session\n",
    "breeze.generate_session(api_secret=api_secret,\n",
    "                        session_token=session_token)"
   ]
  },
  {
   "cell_type": "markdown",
   "metadata": {},
   "source": [
    "## Demo of Indicator"
   ]
  },
  {
   "cell_type": "code",
   "execution_count": 6,
   "metadata": {},
   "outputs": [],
   "source": [
    "stoploss=100\n",
    "def HandelStream(ticks):\n",
    "    ltp=ticks.get(\"ltp\")\n",
    "    if ltp<100:\n",
    "        print(\"Sell\")\n",
    "    "
   ]
  },
  {
   "cell_type": "code",
   "execution_count": null,
   "metadata": {},
   "outputs": [],
   "source": [
    "def HandleOHLCV(ticks):\n",
    "    signal=0\n",
    "    # Code your logic here.\n",
    "    # Signal >0 then buy\n",
    "    # Signal<0 then sell."
   ]
  },
  {
   "cell_type": "code",
   "execution_count": 5,
   "metadata": {},
   "outputs": [],
   "source": [
    "# Connect to websocket(it will connect to tick-by-tick data server)\n",
    "breeze.ws_connect()\n",
    "\n",
    "# Callback to receive ticks.\n",
    "def on_ticks(ticks):\n",
    "    if ticks.get(\"bPrice\")!=None:\n",
    "        HandelStream(ticks)\n",
    "    else:\n",
    "        HandleOHLCV(ticks)\n",
    "\n",
    "\n",
    "breeze.on_ticks=on_ticks"
   ]
  },
  {
   "cell_type": "code",
   "execution_count": null,
   "metadata": {},
   "outputs": [],
   "source": [
    "# subscribe stocks feeds\n",
    "breeze.subscribe_feeds(exchange_code=\"NFO\", stock_code=\"CNXBAN\", product_type=\"options\", expiry_date=\"21-FEB-2024\", strike_price=\"46400\", right=\"Call\", get_exchange_quotes=True, get_market_depth=False)\n"
   ]
  },
  {
   "cell_type": "code",
   "execution_count": null,
   "metadata": {},
   "outputs": [],
   "source": [
    "# subscribe to Real Time Streaming OHLCV Data of stocks\n",
    "breeze.subscribe_feeds(exchange_code=\"NFO\", stock_code=\"CNXBAN\", product_type=\"options\", expiry_date=\"21-FEB-2024\", strike_price=\"46400\", right=\"Call\",interval=\"1minute\")\n"
   ]
  }
 ],
 "metadata": {
  "kernelspec": {
   "display_name": "Python 3",
   "language": "python",
   "name": "python3"
  },
  "language_info": {
   "codemirror_mode": {
    "name": "ipython",
    "version": 3
   },
   "file_extension": ".py",
   "mimetype": "text/x-python",
   "name": "python",
   "nbconvert_exporter": "python",
   "pygments_lexer": "ipython3",
   "version": "3.10.11"
  }
 },
 "nbformat": 4,
 "nbformat_minor": 2
}
