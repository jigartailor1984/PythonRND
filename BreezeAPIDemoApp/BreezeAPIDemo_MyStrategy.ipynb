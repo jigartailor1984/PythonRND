{
 "cells": [
  {
   "cell_type": "markdown",
   "metadata": {},
   "source": [
    "# BreezeAPI Options Strategy"
   ]
  },
  {
   "cell_type": "markdown",
   "metadata": {},
   "source": [
    "## Install BreezeAPI package"
   ]
  },
  {
   "cell_type": "code",
   "execution_count": null,
   "metadata": {},
   "outputs": [],
   "source": [
    "pip install --upgrade breeze-connect"
   ]
  },
  {
   "cell_type": "code",
   "execution_count": null,
   "metadata": {},
   "outputs": [],
   "source": [
    "pip install --upgrade mplfinance"
   ]
  },
  {
   "cell_type": "code",
   "execution_count": null,
   "metadata": {},
   "outputs": [],
   "source": [
    "pip install --upgrade matplotlib"
   ]
  },
  {
   "cell_type": "code",
   "execution_count": null,
   "metadata": {},
   "outputs": [],
   "source": [
    "pip install --upgrade pandas_ta"
   ]
  },
  {
   "cell_type": "markdown",
   "metadata": {},
   "source": [
    "## Import required packages"
   ]
  },
  {
   "cell_type": "code",
   "execution_count": 1,
   "metadata": {},
   "outputs": [],
   "source": [
    "from breeze_connect import BreezeConnect\n",
    "from datetime import datetime\n",
    "import urllib\n",
    "import numpy as np\n",
    "import pandas as pd\n",
    "\n",
    "import mplfinance as mpf\n",
    "import matplotlib.pyplot as plt\n",
    "import pandas_ta as ta\n"
   ]
  },
  {
   "cell_type": "markdown",
   "metadata": {},
   "source": [
    "## Variables for initial setup"
   ]
  },
  {
   "cell_type": "code",
   "execution_count": 2,
   "metadata": {},
   "outputs": [],
   "source": [
    "Api_key=\"^42y6975650632#94258t282@r718`77\"\n",
    "Api_Secret=\"i0td81HE339202156w96102D98497633\""
   ]
  },
  {
   "cell_type": "markdown",
   "metadata": {},
   "source": [
    "## Get Link to generate session key"
   ]
  },
  {
   "cell_type": "code",
   "execution_count": 3,
   "metadata": {},
   "outputs": [
    {
     "name": "stdout",
     "output_type": "stream",
     "text": [
      "https://api.icicidirect.com/apiuser/login?api_key=%5E42y6975650632%2394258t282%40r718%6077\n"
     ]
    }
   ],
   "source": [
    "print(\"https://api.icicidirect.com/apiuser/login?api_key=\"+urllib.parse.quote_plus(Api_key))"
   ]
  },
  {
   "cell_type": "markdown",
   "metadata": {},
   "source": [
    "## Declare Session key variable"
   ]
  },
  {
   "cell_type": "code",
   "execution_count": 4,
   "metadata": {},
   "outputs": [],
   "source": [
    "Api_Session=\"39245717\""
   ]
  },
  {
   "cell_type": "markdown",
   "metadata": {},
   "source": [
    "## Initialize SDK"
   ]
  },
  {
   "cell_type": "code",
   "execution_count": 5,
   "metadata": {},
   "outputs": [],
   "source": [
    "breeze = BreezeConnect(api_key=Api_key)"
   ]
  },
  {
   "cell_type": "markdown",
   "metadata": {},
   "source": [
    "## Generate Session"
   ]
  },
  {
   "cell_type": "code",
   "execution_count": 6,
   "metadata": {},
   "outputs": [],
   "source": [
    "breeze.generate_session(api_secret=Api_Secret,\n",
    "                        session_token=Api_Session)\n"
   ]
  },
  {
   "cell_type": "markdown",
   "metadata": {},
   "source": [
    "## Indicator process"
   ]
  },
  {
   "cell_type": "code",
   "execution_count": 32,
   "metadata": {},
   "outputs": [
    {
     "name": "stdout",
     "output_type": "stream",
     "text": [
      "2023-04-23 00:00:00\n"
     ]
    },
    {
     "data": {
      "text/html": [
       "<div>\n",
       "<style scoped>\n",
       "    .dataframe tbody tr th:only-of-type {\n",
       "        vertical-align: middle;\n",
       "    }\n",
       "\n",
       "    .dataframe tbody tr th {\n",
       "        vertical-align: top;\n",
       "    }\n",
       "\n",
       "    .dataframe thead th {\n",
       "        text-align: right;\n",
       "    }\n",
       "</style>\n",
       "<table border=\"1\" class=\"dataframe\">\n",
       "  <thead>\n",
       "    <tr style=\"text-align: right;\">\n",
       "      <th></th>\n",
       "      <th>close</th>\n",
       "      <th>datetime</th>\n",
       "      <th>high</th>\n",
       "      <th>low</th>\n",
       "      <th>open</th>\n",
       "      <th>ema_10</th>\n",
       "      <th>ema_30</th>\n",
       "      <th>macd</th>\n",
       "      <th>macd_signal</th>\n",
       "      <th>macd_histogram</th>\n",
       "      <th>superTrend</th>\n",
       "      <th>supertrend_signal</th>\n",
       "    </tr>\n",
       "  </thead>\n",
       "  <tbody>\n",
       "    <tr>\n",
       "      <th>0</th>\n",
       "      <td>22469.05</td>\n",
       "      <td>2024-04-01 15:25:00</td>\n",
       "      <td>22473.90</td>\n",
       "      <td>22456.50</td>\n",
       "      <td>22459.00</td>\n",
       "      <td>22469.050000</td>\n",
       "      <td>22469.050000</td>\n",
       "      <td>NaN</td>\n",
       "      <td>NaN</td>\n",
       "      <td>NaN</td>\n",
       "      <td>NaN</td>\n",
       "      <td>NaN</td>\n",
       "    </tr>\n",
       "    <tr>\n",
       "      <th>1</th>\n",
       "      <td>22458.80</td>\n",
       "      <td>2024-04-02 09:05:00</td>\n",
       "      <td>22458.80</td>\n",
       "      <td>22458.80</td>\n",
       "      <td>22458.80</td>\n",
       "      <td>22463.412500</td>\n",
       "      <td>22463.754167</td>\n",
       "      <td>NaN</td>\n",
       "      <td>NaN</td>\n",
       "      <td>NaN</td>\n",
       "      <td>NaN</td>\n",
       "      <td>NaN</td>\n",
       "    </tr>\n",
       "    <tr>\n",
       "      <th>2</th>\n",
       "      <td>22458.80</td>\n",
       "      <td>2024-04-02 09:10:00</td>\n",
       "      <td>22458.80</td>\n",
       "      <td>22458.80</td>\n",
       "      <td>22458.80</td>\n",
       "      <td>22461.558306</td>\n",
       "      <td>22461.991503</td>\n",
       "      <td>NaN</td>\n",
       "      <td>NaN</td>\n",
       "      <td>NaN</td>\n",
       "      <td>0.000000</td>\n",
       "      <td>1.0</td>\n",
       "    </tr>\n",
       "    <tr>\n",
       "      <th>3</th>\n",
       "      <td>22435.55</td>\n",
       "      <td>2024-04-02 09:15:00</td>\n",
       "      <td>22462.40</td>\n",
       "      <td>22426.20</td>\n",
       "      <td>22458.80</td>\n",
       "      <td>22452.989728</td>\n",
       "      <td>22454.705905</td>\n",
       "      <td>NaN</td>\n",
       "      <td>NaN</td>\n",
       "      <td>NaN</td>\n",
       "      <td>NaN</td>\n",
       "      <td>1.0</td>\n",
       "    </tr>\n",
       "    <tr>\n",
       "      <th>4</th>\n",
       "      <td>22430.60</td>\n",
       "      <td>2024-04-02 09:20:00</td>\n",
       "      <td>22438.30</td>\n",
       "      <td>22415.90</td>\n",
       "      <td>22435.20</td>\n",
       "      <td>22446.562246</td>\n",
       "      <td>22449.221228</td>\n",
       "      <td>NaN</td>\n",
       "      <td>NaN</td>\n",
       "      <td>NaN</td>\n",
       "      <td>NaN</td>\n",
       "      <td>1.0</td>\n",
       "    </tr>\n",
       "    <tr>\n",
       "      <th>...</th>\n",
       "      <td>...</td>\n",
       "      <td>...</td>\n",
       "      <td>...</td>\n",
       "      <td>...</td>\n",
       "      <td>...</td>\n",
       "      <td>...</td>\n",
       "      <td>...</td>\n",
       "      <td>...</td>\n",
       "      <td>...</td>\n",
       "      <td>...</td>\n",
       "      <td>...</td>\n",
       "      <td>...</td>\n",
       "    </tr>\n",
       "    <tr>\n",
       "      <th>995</th>\n",
       "      <td>22326.30</td>\n",
       "      <td>2024-04-22 15:05:00</td>\n",
       "      <td>22327.15</td>\n",
       "      <td>22314.55</td>\n",
       "      <td>22316.40</td>\n",
       "      <td>22308.908807</td>\n",
       "      <td>22294.322451</td>\n",
       "      <td>9.942846</td>\n",
       "      <td>6.954058</td>\n",
       "      <td>2.988789</td>\n",
       "      <td>22033.240926</td>\n",
       "      <td>1.0</td>\n",
       "    </tr>\n",
       "    <tr>\n",
       "      <th>996</th>\n",
       "      <td>22347.05</td>\n",
       "      <td>2024-04-22 15:10:00</td>\n",
       "      <td>22349.35</td>\n",
       "      <td>22321.20</td>\n",
       "      <td>22326.10</td>\n",
       "      <td>22315.843570</td>\n",
       "      <td>22297.724229</td>\n",
       "      <td>12.426942</td>\n",
       "      <td>8.048634</td>\n",
       "      <td>4.378307</td>\n",
       "      <td>22035.652353</td>\n",
       "      <td>1.0</td>\n",
       "    </tr>\n",
       "    <tr>\n",
       "      <th>997</th>\n",
       "      <td>22344.75</td>\n",
       "      <td>2024-04-22 15:15:00</td>\n",
       "      <td>22347.40</td>\n",
       "      <td>22334.90</td>\n",
       "      <td>22347.40</td>\n",
       "      <td>22321.099284</td>\n",
       "      <td>22300.758149</td>\n",
       "      <td>14.048077</td>\n",
       "      <td>9.248523</td>\n",
       "      <td>4.799554</td>\n",
       "      <td>22045.409159</td>\n",
       "      <td>1.0</td>\n",
       "    </tr>\n",
       "    <tr>\n",
       "      <th>998</th>\n",
       "      <td>22354.50</td>\n",
       "      <td>2024-04-22 15:20:00</td>\n",
       "      <td>22356.25</td>\n",
       "      <td>22338.45</td>\n",
       "      <td>22344.00</td>\n",
       "      <td>22327.172142</td>\n",
       "      <td>22304.225366</td>\n",
       "      <td>15.935883</td>\n",
       "      <td>10.585995</td>\n",
       "      <td>5.349888</td>\n",
       "      <td>22045.409159</td>\n",
       "      <td>1.0</td>\n",
       "    </tr>\n",
       "    <tr>\n",
       "      <th>999</th>\n",
       "      <td>22365.45</td>\n",
       "      <td>2024-04-22 15:25:00</td>\n",
       "      <td>22375.25</td>\n",
       "      <td>22351.05</td>\n",
       "      <td>22353.55</td>\n",
       "      <td>22334.131752</td>\n",
       "      <td>22308.175342</td>\n",
       "      <td>18.106833</td>\n",
       "      <td>12.090163</td>\n",
       "      <td>6.016670</td>\n",
       "      <td>22045.409159</td>\n",
       "      <td>1.0</td>\n",
       "    </tr>\n",
       "  </tbody>\n",
       "</table>\n",
       "<p>1000 rows × 12 columns</p>\n",
       "</div>"
      ],
      "text/plain": [
       "        close             datetime      high       low      open  \\\n",
       "0    22469.05  2024-04-01 15:25:00  22473.90  22456.50  22459.00   \n",
       "1    22458.80  2024-04-02 09:05:00  22458.80  22458.80  22458.80   \n",
       "2    22458.80  2024-04-02 09:10:00  22458.80  22458.80  22458.80   \n",
       "3    22435.55  2024-04-02 09:15:00  22462.40  22426.20  22458.80   \n",
       "4    22430.60  2024-04-02 09:20:00  22438.30  22415.90  22435.20   \n",
       "..        ...                  ...       ...       ...       ...   \n",
       "995  22326.30  2024-04-22 15:05:00  22327.15  22314.55  22316.40   \n",
       "996  22347.05  2024-04-22 15:10:00  22349.35  22321.20  22326.10   \n",
       "997  22344.75  2024-04-22 15:15:00  22347.40  22334.90  22347.40   \n",
       "998  22354.50  2024-04-22 15:20:00  22356.25  22338.45  22344.00   \n",
       "999  22365.45  2024-04-22 15:25:00  22375.25  22351.05  22353.55   \n",
       "\n",
       "           ema_10        ema_30       macd  macd_signal  macd_histogram  \\\n",
       "0    22469.050000  22469.050000        NaN          NaN             NaN   \n",
       "1    22463.412500  22463.754167        NaN          NaN             NaN   \n",
       "2    22461.558306  22461.991503        NaN          NaN             NaN   \n",
       "3    22452.989728  22454.705905        NaN          NaN             NaN   \n",
       "4    22446.562246  22449.221228        NaN          NaN             NaN   \n",
       "..            ...           ...        ...          ...             ...   \n",
       "995  22308.908807  22294.322451   9.942846     6.954058        2.988789   \n",
       "996  22315.843570  22297.724229  12.426942     8.048634        4.378307   \n",
       "997  22321.099284  22300.758149  14.048077     9.248523        4.799554   \n",
       "998  22327.172142  22304.225366  15.935883    10.585995        5.349888   \n",
       "999  22334.131752  22308.175342  18.106833    12.090163        6.016670   \n",
       "\n",
       "       superTrend  supertrend_signal  \n",
       "0             NaN                NaN  \n",
       "1             NaN                NaN  \n",
       "2        0.000000                1.0  \n",
       "3             NaN                1.0  \n",
       "4             NaN                1.0  \n",
       "..            ...                ...  \n",
       "995  22033.240926                1.0  \n",
       "996  22035.652353                1.0  \n",
       "997  22045.409159                1.0  \n",
       "998  22045.409159                1.0  \n",
       "999  22045.409159                1.0  \n",
       "\n",
       "[1000 rows x 12 columns]"
      ]
     },
     "execution_count": 32,
     "metadata": {},
     "output_type": "execute_result"
    }
   ],
   "source": [
    "currentDate=datetime.now()\n",
    "fromDate=datetime(currentDate.year-1,currentDate.month, currentDate.day)\n",
    "print(fromDate)\n",
    "histryData=breeze.get_historical_data_v2(interval=\"5minute\",\n",
    "                            from_date= fromDate.strftime('%Y-%m-%dT%H:%M:%S.000Z'),\n",
    "                            to_date= currentDate.strftime('%Y-%m-%dT%H:%M:%S.000Z'),\n",
    "                            stock_code=\"NIFTY\",\n",
    "                            exchange_code=\"NSE\",\n",
    "                            product_type=\"cash\",\n",
    "                            expiry_date=\"2024-04-25T07:00:00.000Z\",\n",
    "                            right=\"others\",\n",
    "                            strike_price=\"0\")['Success']\n",
    "histryData\n",
    "df=pd.DataFrame(histryData)\n",
    "df.set_index(\"datetime\")\n",
    "df.drop(['exchange_code','stock_code','volume'],axis=1, inplace=True)\n",
    "\n",
    "# Calculate EMA 10 fast\n",
    "df['ema_10']=df['close'].ewm(span=10).mean()\n",
    "\n",
    "# Calculate EMA 30 slow\n",
    "df['ema_30']=df['close'].ewm(span=30).mean()\n",
    "\n",
    "# Calculate MACD\n",
    "macdDf=ta.macd(close=df['close'],fast=12,slow=26,signal=9)\n",
    "df['macd']=macdDf['MACD_12_26_9']\n",
    "df['macd_signal']=macdDf['MACDs_12_26_9']\n",
    "df['macd_histogram']=macdDf['MACDh_12_26_9']\n",
    "\n",
    "# Calculate SuperTrend with factor 20,2\n",
    "superTrenddf=ta.supertrend(high=df['high'],low=df['low'],close=df['close'], multiplier=20,offset=2)\n",
    "df['superTrend']=superTrenddf['SUPERT_7_20.0']\n",
    "df['supertrend_signal']=superTrenddf['SUPERTd_7_20.0']\n",
    "df.to_csv(\"data.csv\",)\n",
    "df"
   ]
  },
  {
   "cell_type": "code",
   "execution_count": null,
   "metadata": {},
   "outputs": [],
   "source": []
  },
  {
   "cell_type": "code",
   "execution_count": 28,
   "metadata": {},
   "outputs": [
    {
     "data": {
      "image/png": "[encoded data removed]",
      "text/plain": [
       "<Figure size 800x575 with 2 Axes>"
      ]
     },
     "metadata": {},
     "output_type": "display_data"
    }
   ],
   "source": [
    "df.index=pd.to_datetime(df.index)\n",
    "\n",
    "ema10_plot=mpf.make_addplot(data=df['ema_10'],color='b')\n",
    "ema30_plot=mpf.make_addplot(data=df['ema_30'],color='r')\n",
    "\n",
    "\n",
    "mpf.plot(df,type='candle', style='charles',volume=False, addplot=[ema10_plot, ema30_plot])"
   ]
  },
  {
   "cell_type": "code",
   "execution_count": null,
   "metadata": {},
   "outputs": [],
   "source": [
    "# demo strategy, if ema_9 crosses up ema_26, buy\n",
    "# else if ema_9 crosses down ema_26, sell"
   ]
  }
 ],
 "metadata": {
  "kernelspec": {
   "display_name": "Python 3",
   "language": "python",
   "name": "python3"
  },
  "language_info": {
   "codemirror_mode": {
    "name": "ipython",
    "version": 3
   },
   "file_extension": ".py",
   "mimetype": "text/x-python",
   "name": "python",
   "nbconvert_exporter": "python",
   "pygments_lexer": "ipython3",
   "version": "3.10.13"
  }
 },
 "nbformat": 4,
 "nbformat_minor": 2
}
