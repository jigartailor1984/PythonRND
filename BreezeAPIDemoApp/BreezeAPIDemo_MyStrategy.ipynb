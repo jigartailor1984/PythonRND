{
 "cells": [
  {
   "cell_type": "markdown",
   "metadata": {},
   "source": [
    "# BreezeAPI Options Strategy"
   ]
  },
  {
   "cell_type": "markdown",
   "metadata": {},
   "source": [
    "## Install BreezeAPI package"
   ]
  },
  {
   "cell_type": "code",
   "execution_count": null,
   "metadata": {},
   "outputs": [],
   "source": [
    "pip install --upgrade breeze-connect"
   ]
  },
  {
   "cell_type": "code",
   "execution_count": null,
   "metadata": {},
   "outputs": [],
   "source": [
    "pip install --upgrade mplfinance"
   ]
  },
  {
   "cell_type": "code",
   "execution_count": null,
   "metadata": {},
   "outputs": [],
   "source": [
    "pip install --upgrade matplotlib"
   ]
  },
  {
   "cell_type": "code",
   "execution_count": null,
   "metadata": {},
   "outputs": [],
   "source": [
    "pip install --upgrade pandas_ta"
   ]
  },
  {
   "cell_type": "markdown",
   "metadata": {},
   "source": [
    "## Import required packages"
   ]
  },
  {
   "cell_type": "code",
   "execution_count": null,
   "metadata": {},
   "outputs": [],
   "source": [
    "from breeze_connect import BreezeConnect\n",
    "from datetime import datetime\n",
    "import urllib\n",
    "import numpy as np\n",
    "import pandas as pd\n",
    "\n",
    "import mplfinance as mpf\n",
    "import matplotlib.pyplot as plt\n",
    "import pandas_ta as ta\n"
   ]
  },
  {
   "cell_type": "markdown",
   "metadata": {},
   "source": [
    "## Variables for initial setup"
   ]
  },
  {
   "cell_type": "code",
   "execution_count": null,
   "metadata": {},
   "outputs": [],
   "source": [
    "Api_key=\"^42y6975650632#94258t282@r718`77\"\n",
    "Api_Secret=\"i0td81HE339202156w96102D98497633\""
   ]
  },
  {
   "cell_type": "markdown",
   "metadata": {},
   "source": [
    "## Get Link to generate session key"
   ]
  },
  {
   "cell_type": "code",
   "execution_count": null,
   "metadata": {},
   "outputs": [],
   "source": [
    "print(\"https://api.icicidirect.com/apiuser/login?api_key=\"+urllib.parse.quote_plus(Api_key))"
   ]
  },
  {
   "cell_type": "markdown",
   "metadata": {},
   "source": [
    "## Declare Session key variable"
   ]
  },
  {
   "cell_type": "code",
   "execution_count": null,
   "metadata": {},
   "outputs": [],
   "source": [
    "Api_Session=\"39395901\""
   ]
  },
  {
   "cell_type": "markdown",
   "metadata": {},
   "source": [
    "## Initialize SDK"
   ]
  },
  {
   "cell_type": "code",
   "execution_count": null,
   "metadata": {},
   "outputs": [],
   "source": [
    "breeze = BreezeConnect(api_key=Api_key)"
   ]
  },
  {
   "cell_type": "markdown",
   "metadata": {},
   "source": [
    "## Generate Session"
   ]
  },
  {
   "cell_type": "code",
   "execution_count": null,
   "metadata": {},
   "outputs": [],
   "source": [
    "breeze.generate_session(api_secret=Api_Secret,\n",
    "                        session_token=Api_Session)\n"
   ]
  },
  {
   "cell_type": "markdown",
   "metadata": {},
   "source": [
    "## Indicator process"
   ]
  },
  {
   "cell_type": "code",
   "execution_count": null,
   "metadata": {},
   "outputs": [],
   "source": [
    "currentDate=datetime.now()\n",
    "fromDate=datetime(currentDate.year,currentDate.month-3, currentDate.day)\n",
    "print(fromDate)\n",
    "histryData=breeze.get_historical_data_v2(interval=\"1day\",\n",
    "                            from_date= fromDate.strftime('%Y-%m-%dT%H:%M:%S.000Z'),\n",
    "                            to_date= currentDate.strftime('%Y-%m-%dT%H:%M:%S.000Z'),\n",
    "                            stock_code=\"NIFTY\",\n",
    "                            exchange_code=\"NSE\",\n",
    "                            product_type=\"cash\",\n",
    "                            expiry_date=\"2024-04-25T07:00:00.000Z\",\n",
    "                            right=\"others\",\n",
    "                            strike_price=\"0\")['Success']\n",
    "\n",
    "df=pd.DataFrame(histryData)\n",
    "df.set_index(\"datetime\")\n",
    "df.drop(['exchange_code','stock_code','volume'],axis=1, inplace=True)\n",
    "\n",
    "# Calculate EMA 10 fast\n",
    "df['ema_10']=df['close'].ewm(span=10).mean()\n",
    "\n",
    "# Calculate EMA 30 slow\n",
    "df['ema_30']=df['close'].ewm(span=30).mean()\n",
    "\n",
    "# Calculate MACD\n",
    "macdDf=ta.macd(close=df['close'],fast=12,slow=26,signal=9)\n",
    "df['macd']=macdDf['MACD_12_26_9']\n",
    "df['macd_signal']=macdDf['MACDs_12_26_9']\n",
    "df['macd_histogram']=macdDf['MACDh_12_26_9']\n",
    "\n",
    "# Calculate SuperTrend with factor 20,2\n",
    "superTrenddf=ta.supertrend(high=df['high'],low=df['low'],close=df['close'], multiplier=20,offset=2)\n",
    "df['superTrend']=superTrenddf['SUPERT_7_20.0']\n",
    "df['supertrend_signal']=superTrenddf['SUPERTd_7_20.0']\n",
    "df.to_csv(\"data.csv\",)\n",
    "df"
   ]
  },
  {
   "cell_type": "code",
   "execution_count": null,
   "metadata": {},
   "outputs": [],
   "source": [
    "def gen_macd_color(df):\n",
    "    macd_color = []\n",
    "    macd_color.clear()\n",
    "    for i in range (0,len(df[\"MACDh_12_26_9\"])):\n",
    "        if df[\"MACDh_12_26_9\"][i] >= 0 and df[\"MACDh_12_26_9\"][i-1] < df[\"MACDh_12_26_9\"][i]:\n",
    "            macd_color.append('#26A69A')\n",
    "            #print(i,'green')\n",
    "        elif df[\"MACDh_12_26_9\"][i] >= 0 and df[\"MACDh_12_26_9\"][i-1] > df[\"MACDh_12_26_9\"][i]:\n",
    "            macd_color.append('#B2DFDB')\n",
    "            #print(i,'faint green')\n",
    "        elif df[\"MACDh_12_26_9\"][i] < 0 and df[\"MACDh_12_26_9\"][i-1] > df[\"MACDh_12_26_9\"][i] :\n",
    "            #print(i,'red')\n",
    "            macd_color.append('#FF5252')\n",
    "        elif df[\"MACDh_12_26_9\"][i] < 0 and df[\"MACDh_12_26_9\"][i-1] < df[\"MACDh_12_26_9\"][i] :\n",
    "            #print(i,'faint red')\n",
    "            macd_color.append('#FFCDD2')\n",
    "        else:\n",
    "            macd_color.append('#000000')\n",
    "            #print(i,'no')\n",
    "    return macd_color"
   ]
  },
  {
   "cell_type": "code",
   "execution_count": null,
   "metadata": {},
   "outputs": [],
   "source": [
    "macd_color = gen_macd_color(macdDf)\n",
    "df.index=pd.to_datetime(df.index)\n",
    "\n",
    "ema10_plot=mpf.make_addplot(data=df['ema_10'],color='b')\n",
    "ema30_plot=mpf.make_addplot(data=df['ema_30'],color='r')\n",
    "macd_plot=mpf.make_addplot(data=df['macd'],color='#2962FF',panel=1)\n",
    "macds_plot=mpf.make_addplot(data=df['macd_signal'],color='#FF6D00', panel=1)\n",
    "macdh_plot=mpf.make_addplot(data=df['macd_histogram'],type='bar',width=0.7,panel=1, color=macd_color,alpha=1,secondary_y=True)\n",
    "\n",
    "mpf.plot(df,type='candle', style='charles',volume=False, addplot=[ema10_plot, ema30_plot,macd_plot,macds_plot,macdh_plot])"
   ]
  },
  {
   "cell_type": "code",
   "execution_count": null,
   "metadata": {},
   "outputs": [],
   "source": [
    "# demo strategy, if ema_9 crosses up ema_26, buy\n",
    "# else if ema_9 crosses down ema_26, sell"
   ]
  }
 ],
 "metadata": {
  "kernelspec": {
   "display_name": "Python 3",
   "language": "python",
   "name": "python3"
  },
  "language_info": {
   "codemirror_mode": {
    "name": "ipython",
    "version": 3
   },
   "file_extension": ".py",
   "mimetype": "text/x-python",
   "name": "python",
   "nbconvert_exporter": "python",
   "pygments_lexer": "ipython3",
   "version": "3.10.13"
  }
 },
 "nbformat": 4,
 "nbformat_minor": 2
}
