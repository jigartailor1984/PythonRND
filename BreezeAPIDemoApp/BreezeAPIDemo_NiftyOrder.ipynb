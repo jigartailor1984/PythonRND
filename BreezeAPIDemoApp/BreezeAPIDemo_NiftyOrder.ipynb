{
 "cells": [
  {
   "cell_type": "code",
   "execution_count": null,
   "metadata": {},
   "outputs": [],
   "source": [
    "pip install --upgrade breeze-connect"
   ]
  },
  {
   "cell_type": "code",
   "execution_count": 3,
   "metadata": {},
   "outputs": [],
   "source": [
    "from breeze_connect import BreezeConnect\n",
    "from datetime import datetime\n",
    "import urllib\n",
    "import numpy as np"
   ]
  },
  {
   "cell_type": "code",
   "execution_count": 4,
   "metadata": {},
   "outputs": [],
   "source": [
    "Api_key=\"^42y6975650632#94258t282@r718`77\"\n",
    "Api_Secret=\"i0td81HE339202156w96102D98497633\""
   ]
  },
  {
   "cell_type": "code",
   "execution_count": 5,
   "metadata": {},
   "outputs": [
    {
     "name": "stdout",
     "output_type": "stream",
     "text": [
      "https://api.icicidirect.com/apiuser/login?api_key=%5E42y6975650632%2394258t282%40r718%6077\n"
     ]
    }
   ],
   "source": [
    "print(\"https://api.icicidirect.com/apiuser/login?api_key=\"+urllib.parse.quote_plus(Api_key))"
   ]
  },
  {
   "cell_type": "code",
   "execution_count": 6,
   "metadata": {},
   "outputs": [],
   "source": [
    "Api_Session=\"40010832\""
   ]
  },
  {
   "cell_type": "code",
   "execution_count": 13,
   "metadata": {},
   "outputs": [
    {
     "data": {
      "text/plain": [
       "'2024-05-06T06:00:00.000Z'"
      ]
     },
     "execution_count": 13,
     "metadata": {},
     "output_type": "execute_result"
    }
   ],
   "source": [
    "currentDate=datetime(2024,5,6,6,0,0,0).strftime('%Y-%m-%dT%H:%M:%S.000Z')\n",
    "currentDate"
   ]
  },
  {
   "cell_type": "code",
   "execution_count": 8,
   "metadata": {},
   "outputs": [
    {
     "data": {
      "text/plain": [
       "'2024-05-09T06:00:00.000Z'"
      ]
     },
     "execution_count": 8,
     "metadata": {},
     "output_type": "execute_result"
    }
   ],
   "source": [
    "expiryDate=datetime(2024,5,9,6,0,0,0).strftime('%Y-%m-%dT%H:%M:%S.000Z')\n",
    "expiryDate"
   ]
  },
  {
   "cell_type": "code",
   "execution_count": 9,
   "metadata": {},
   "outputs": [],
   "source": [
    "stockCode='NIFTY'\n",
    "quantity='25'"
   ]
  },
  {
   "cell_type": "code",
   "execution_count": 10,
   "metadata": {},
   "outputs": [],
   "source": [
    "breeze = BreezeConnect(api_key=Api_key)\n",
    "breeze.generate_session(api_secret=Api_Secret,\n",
    "                        session_token=Api_Session)"
   ]
  },
  {
   "cell_type": "markdown",
   "metadata": {},
   "source": [
    "## Buy Call"
   ]
  },
  {
   "cell_type": "code",
   "execution_count": 49,
   "metadata": {},
   "outputs": [
    {
     "name": "stdout",
     "output_type": "stream",
     "text": [
      "{'Success': {'order_id': '202405062600023448', 'message': 'Successfully Placed the order'}, 'Status': 200, 'Error': None}\n",
      "2024-05-06 09:33:04.474405\n"
     ]
    }
   ],
   "source": [
    "strikePriceCall='22500'\n",
    "stoplossCall=''\n",
    "print(breeze.place_order(stock_code=stockCode,\n",
    "                    exchange_code=\"NFO\",\n",
    "                    product=\"options\",\n",
    "                    action=\"buy\",\n",
    "                    order_type=\"market\",\n",
    "                    stoploss=stoplossCall,\n",
    "                    quantity=quantity,\n",
    "                    price=\"\",\n",
    "                    validity=\"day\",\n",
    "                    validity_date=currentDate,\n",
    "                    disclosed_quantity=\"0\",\n",
    "                    expiry_date=expiryDate,\n",
    "                    right=\"call\",\n",
    "                    strike_price=strikePriceCall))\n",
    "print(datetime.now())\n"
   ]
  },
  {
   "cell_type": "code",
   "execution_count": 12,
   "metadata": {},
   "outputs": [
    {
     "data": {
      "text/plain": [
       "{'Success': None, 'Status': 200, 'Error': 'No Positions available.'}"
      ]
     },
     "execution_count": 12,
     "metadata": {},
     "output_type": "execute_result"
    }
   ],
   "source": [
    "breeze.get_portfolio_positions()"
   ]
  },
  {
   "cell_type": "code",
   "execution_count": 50,
   "metadata": {},
   "outputs": [
    {
     "name": "stdout",
     "output_type": "stream",
     "text": [
      "{'Success': {'order_id': '202405062600023526', 'message': 'Successfully Placed the order', 'indicator': '0'}, 'Status': 200, 'Error': None}\n",
      "2024-05-06 09:34:33.763723\n"
     ]
    }
   ],
   "source": [
    "print(breeze.square_off(exchange_code=\"NFO\",\n",
    "                    product=\"options\",\n",
    "                    stock_code=stockCode,\n",
    "                    expiry_date=expiryDate,\n",
    "                    right=\"Call\",\n",
    "                    strike_price=strikePriceCall,\n",
    "                    action=\"sell\",\n",
    "                    order_type=\"market\",\n",
    "                    validity=\"day\",\n",
    "                    stoploss=\"0\",\n",
    "                    quantity=quantity,\n",
    "                    price=\"0\",\n",
    "                    validity_date=currentDate,\n",
    "                    trade_password=\"\",\n",
    "                    disclosed_quantity=\"0\"))\n",
    "print(datetime.now())"
   ]
  },
  {
   "cell_type": "markdown",
   "metadata": {},
   "source": [
    "## Buy Put"
   ]
  },
  {
   "cell_type": "code",
   "execution_count": 52,
   "metadata": {},
   "outputs": [
    {
     "name": "stdout",
     "output_type": "stream",
     "text": [
      "{'Success': {'order_id': '202405062600023715', 'message': 'Successfully Placed the order'}, 'Status': 200, 'Error': None}\n",
      "2024-05-06 09:38:37.755918\n"
     ]
    }
   ],
   "source": [
    "strikePricePut='22500'\n",
    "stoplossPut=''\n",
    "print(breeze.place_order(stock_code=stockCode,\n",
    "                    exchange_code=\"NFO\",\n",
    "                    product=\"options\",\n",
    "                    action=\"buy\",\n",
    "                    order_type=\"market\",\n",
    "                    stoploss=stoplossPut,\n",
    "                    quantity=quantity,\n",
    "                    price=\"\",\n",
    "                    validity=\"day\",\n",
    "                    validity_date=currentDate,\n",
    "                    disclosed_quantity=\"0\",\n",
    "                    expiry_date=expiryDate,\n",
    "                    right=\"put\",\n",
    "                    strike_price=strikePricePut))\n",
    "print(datetime.now())"
   ]
  },
  {
   "cell_type": "code",
   "execution_count": null,
   "metadata": {},
   "outputs": [],
   "source": [
    "breeze.get_portfolio_positions()"
   ]
  },
  {
   "cell_type": "code",
   "execution_count": 46,
   "metadata": {},
   "outputs": [
    {
     "name": "stdout",
     "output_type": "stream",
     "text": [
      "{'Success': {'order_id': '202405062600021022', 'message': 'Successfully Placed the order', 'indicator': '0'}, 'Status': 200, 'Error': None}\n",
      "2024-05-06 08:56:03.413062\n"
     ]
    }
   ],
   "source": [
    "print(breeze.square_off(exchange_code=\"NFO\",\n",
    "                    product=\"options\",\n",
    "                    stock_code=stockCode,\n",
    "                    expiry_date=expiryDate,\n",
    "                    right=\"Put\",\n",
    "                    strike_price=strikePricePut,\n",
    "                    action=\"sell\",\n",
    "                    order_type=\"market\",\n",
    "                    validity=\"day\",\n",
    "                    stoploss=\"0\",\n",
    "                    quantity=quantity,\n",
    "                    price=\"0\",\n",
    "                    validity_date=currentDate,\n",
    "                    trade_password=\"\",\n",
    "                    disclosed_quantity=\"0\"))\n",
    "\n",
    "print(datetime.now())"
   ]
  }
 ],
 "metadata": {
  "kernelspec": {
   "display_name": "Python 3",
   "language": "python",
   "name": "python3"
  },
  "language_info": {
   "codemirror_mode": {
    "name": "ipython",
    "version": 3
   },
   "file_extension": ".py",
   "mimetype": "text/x-python",
   "name": "python",
   "nbconvert_exporter": "python",
   "pygments_lexer": "ipython3",
   "version": "3.10.13"
  }
 },
 "nbformat": 4,
 "nbformat_minor": 2
}
