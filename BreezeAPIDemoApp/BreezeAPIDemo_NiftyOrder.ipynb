{
 "cells": [
  {
   "cell_type": "markdown",
   "metadata": {},
   "source": [
    "## Initial Setup"
   ]
  },
  {
   "cell_type": "code",
   "execution_count": 1,
   "metadata": {},
   "outputs": [
    {
     "name": "stdout",
     "output_type": "stream",
     "text": [
      "Collecting breeze-connect\n",
      "  Downloading breeze_connect-1.0.55.tar.gz (30 kB)\n",
      "  Installing build dependencies ... \u001b[?25ldone\n",
      "\u001b[?25h  Getting requirements to build wheel ... \u001b[?25ldone\n",
      "\u001b[?25h  Installing backend dependencies ... \u001b[?25ldone\n",
      "\u001b[?25h  Preparing metadata (pyproject.toml) ... \u001b[?25ldone\n",
      "\u001b[?25hCollecting python-socketio[client] (from breeze-connect)\n",
      "  Downloading python_socketio-5.11.2-py3-none-any.whl.metadata (3.2 kB)\n",
      "Requirement already satisfied: requests in /home/codespace/.local/lib/python3.10/site-packages (from breeze-connect) (2.31.0)\n",
      "Requirement already satisfied: pandas in /home/codespace/.local/lib/python3.10/site-packages (from breeze-connect) (2.2.1)\n",
      "Requirement already satisfied: numpy<2,>=1.22.4 in /home/codespace/.local/lib/python3.10/site-packages (from pandas->breeze-connect) (1.26.4)\n",
      "Requirement already satisfied: python-dateutil>=2.8.2 in /home/codespace/.local/lib/python3.10/site-packages (from pandas->breeze-connect) (2.9.0.post0)\n",
      "Requirement already satisfied: pytz>=2020.1 in /home/codespace/.local/lib/python3.10/site-packages (from pandas->breeze-connect) (2024.1)\n",
      "Requirement already satisfied: tzdata>=2022.7 in /home/codespace/.local/lib/python3.10/site-packages (from pandas->breeze-connect) (2024.1)\n",
      "Collecting bidict>=0.21.0 (from python-socketio[client]->breeze-connect)\n",
      "  Downloading bidict-0.23.1-py3-none-any.whl.metadata (8.7 kB)\n",
      "Collecting python-engineio>=4.8.0 (from python-socketio[client]->breeze-connect)\n",
      "  Downloading python_engineio-4.9.0-py3-none-any.whl.metadata (2.2 kB)\n",
      "Requirement already satisfied: websocket-client>=0.54.0 in /home/codespace/.local/lib/python3.10/site-packages (from python-socketio[client]->breeze-connect) (1.7.0)\n",
      "Requirement already satisfied: charset-normalizer<4,>=2 in /home/codespace/.local/lib/python3.10/site-packages (from requests->breeze-connect) (3.3.2)\n",
      "Requirement already satisfied: idna<4,>=2.5 in /home/codespace/.local/lib/python3.10/site-packages (from requests->breeze-connect) (3.6)\n",
      "Requirement already satisfied: urllib3<3,>=1.21.1 in /usr/local/python/3.10.13/lib/python3.10/site-packages (from requests->breeze-connect) (2.0.7)\n",
      "Requirement already satisfied: certifi>=2017.4.17 in /home/codespace/.local/lib/python3.10/site-packages (from requests->breeze-connect) (2024.2.2)\n",
      "Requirement already satisfied: six>=1.5 in /home/codespace/.local/lib/python3.10/site-packages (from python-dateutil>=2.8.2->pandas->breeze-connect) (1.16.0)\n",
      "Collecting simple-websocket>=0.10.0 (from python-engineio>=4.8.0->python-socketio[client]->breeze-connect)\n",
      "  Downloading simple_websocket-1.0.0-py3-none-any.whl.metadata (1.3 kB)\n",
      "Collecting wsproto (from simple-websocket>=0.10.0->python-engineio>=4.8.0->python-socketio[client]->breeze-connect)\n",
      "  Downloading wsproto-1.2.0-py3-none-any.whl.metadata (5.6 kB)\n",
      "Requirement already satisfied: h11<1,>=0.9.0 in /home/codespace/.local/lib/python3.10/site-packages (from wsproto->simple-websocket>=0.10.0->python-engineio>=4.8.0->python-socketio[client]->breeze-connect) (0.14.0)\n",
      "Downloading bidict-0.23.1-py3-none-any.whl (32 kB)\n",
      "Downloading python_engineio-4.9.0-py3-none-any.whl (57 kB)\n",
      "\u001b[2K   \u001b[90m━━━━━━━━━━━━━━━━━━━━━━━━━━━━━━━━━━━━━━━━\u001b[0m \u001b[32m57.5/57.5 kB\u001b[0m \u001b[31m1.7 MB/s\u001b[0m eta \u001b[36m0:00:00\u001b[0m\n",
      "\u001b[?25hDownloading python_socketio-5.11.2-py3-none-any.whl (75 kB)\n",
      "\u001b[2K   \u001b[90m━━━━━━━━━━━━━━━━━━━━━━━━━━━━━━━━━━━━━━━━\u001b[0m \u001b[32m75.7/75.7 kB\u001b[0m \u001b[31m2.2 MB/s\u001b[0m eta \u001b[36m0:00:00\u001b[0m\n",
      "\u001b[?25hDownloading simple_websocket-1.0.0-py3-none-any.whl (13 kB)\n",
      "Downloading wsproto-1.2.0-py3-none-any.whl (24 kB)\n",
      "Building wheels for collected packages: breeze-connect\n",
      "  Building wheel for breeze-connect (pyproject.toml) ... \u001b[?25ldone\n",
      "\u001b[?25h  Created wheel for breeze-connect: filename=breeze_connect-1.0.55-py3-none-any.whl size=24826 sha256=f6900cf7088aae64dd9b23d12e7a1e911413819ac6caf68fdaa755c76c2b72bb\n",
      "  Stored in directory: /home/codespace/.cache/pip/wheels/6d/10/7b/a63c263a9d5f415494d8309cbb12b0585e2cf1d7dba78a692d\n",
      "Successfully built breeze-connect\n",
      "Installing collected packages: wsproto, bidict, simple-websocket, python-engineio, python-socketio, breeze-connect\n",
      "Successfully installed bidict-0.23.1 breeze-connect-1.0.55 python-engineio-4.9.0 python-socketio-5.11.2 simple-websocket-1.0.0 wsproto-1.2.0\n",
      "Note: you may need to restart the kernel to use updated packages.\n"
     ]
    }
   ],
   "source": [
    "pip install --upgrade breeze-connect"
   ]
  },
  {
   "cell_type": "code",
   "execution_count": 2,
   "metadata": {},
   "outputs": [],
   "source": [
    "from breeze_connect import BreezeConnect\n",
    "from datetime import datetime\n",
    "import urllib\n",
    "import numpy as np"
   ]
  },
  {
   "cell_type": "code",
   "execution_count": 3,
   "metadata": {},
   "outputs": [],
   "source": [
    "Api_key=\"^42y6975650632#94258t282@r718`77\"\n",
    "Api_Secret=\"i0td81HE339202156w96102D98497633\""
   ]
  },
  {
   "cell_type": "code",
   "execution_count": 4,
   "metadata": {},
   "outputs": [
    {
     "name": "stdout",
     "output_type": "stream",
     "text": [
      "https://api.icicidirect.com/apiuser/login?api_key=%5E42y6975650632%2394258t282%40r718%6077\n"
     ]
    }
   ],
   "source": [
    "print(\"https://api.icicidirect.com/apiuser/login?api_key=\"+urllib.parse.quote_plus(Api_key))"
   ]
  },
  {
   "cell_type": "code",
   "execution_count": 5,
   "metadata": {},
   "outputs": [],
   "source": [
    "Api_Session=\"40407803\""
   ]
  },
  {
   "cell_type": "code",
   "execution_count": 6,
   "metadata": {},
   "outputs": [
    {
     "data": {
      "text/plain": [
       "'2024-05-13T06:00:00.000Z'"
      ]
     },
     "execution_count": 6,
     "metadata": {},
     "output_type": "execute_result"
    }
   ],
   "source": [
    "currentDate=datetime(2024,5,13,6,0,0,0).strftime('%Y-%m-%dT%H:%M:%S.000Z')\n",
    "currentDate"
   ]
  },
  {
   "cell_type": "code",
   "execution_count": 7,
   "metadata": {},
   "outputs": [
    {
     "data": {
      "text/plain": [
       "'2024-05-16T06:00:00.000Z'"
      ]
     },
     "execution_count": 7,
     "metadata": {},
     "output_type": "execute_result"
    }
   ],
   "source": [
    "expiryDate=datetime(2024,5,16,6,0,0,0).strftime('%Y-%m-%dT%H:%M:%S.000Z')\n",
    "expiryDate"
   ]
  },
  {
   "cell_type": "code",
   "execution_count": 8,
   "metadata": {},
   "outputs": [],
   "source": [
    "stockCode='NIFTY'\n",
    "quantity='25'"
   ]
  },
  {
   "cell_type": "code",
   "execution_count": 9,
   "metadata": {},
   "outputs": [],
   "source": [
    "breeze = BreezeConnect(api_key=Api_key)\n",
    "breeze.generate_session(api_secret=Api_Secret,\n",
    "                        session_token=Api_Session)"
   ]
  },
  {
   "cell_type": "code",
   "execution_count": 16,
   "metadata": {},
   "outputs": [
    {
     "data": {
      "text/plain": [
       "{'exchange_code': 'NSE',\n",
       " 'exchange_stock_code': 'NIFTY FINANCIAL',\n",
       " 'isec_stock_code': 'NIFFIN',\n",
       " 'isec_token': 'NIFTY FIN SERVICE',\n",
       " 'company name': 'NIFTY FINANCIAL SERVICES INDEX',\n",
       " 'isec_token_level1': '4.1!NIFTY FIN SERVICE',\n",
       " 'isec_token_level2': '4.2!NIFTY FIN SERVICE'}"
      ]
     },
     "execution_count": 16,
     "metadata": {},
     "output_type": "execute_result"
    }
   ],
   "source": [
    "breeze.get_names(exchange_code=\"NSE\",stock_code='NIFFIN')"
   ]
  },
  {
   "cell_type": "markdown",
   "metadata": {},
   "source": [
    "## Buy Call"
   ]
  },
  {
   "cell_type": "code",
   "execution_count": 35,
   "metadata": {},
   "outputs": [
    {
     "name": "stdout",
     "output_type": "stream",
     "text": [
      "{'Success': {'order_id': '202405132600021124', 'message': 'Successfully Placed the order'}, 'Status': 200, 'Error': None}\n",
      "2024-05-13 08:20:03.495962\n"
     ]
    }
   ],
   "source": [
    "strikePriceCall='22200'\n",
    "stoplossCall=''\n",
    "\n",
    "print(breeze.place_order(stock_code=stockCode,\n",
    "                    exchange_code=\"NFO\",\n",
    "                    product=\"options\",\n",
    "                    action=\"buy\",\n",
    "                    order_type=\"market\",\n",
    "                    stoploss=stoplossCall,\n",
    "                    quantity=quantity,\n",
    "                    price=\"\",\n",
    "                    validity=\"day\",\n",
    "                    validity_date=currentDate,\n",
    "                    disclosed_quantity=\"0\",\n",
    "                    expiry_date=expiryDate,\n",
    "                    right=\"call\",\n",
    "                    strike_price=strikePriceCall))\n",
    "print(datetime.now())\n"
   ]
  },
  {
   "cell_type": "code",
   "execution_count": 36,
   "metadata": {},
   "outputs": [
    {
     "name": "stdout",
     "output_type": "stream",
     "text": [
      "{'Success': {'order_id': '202405132600022432', 'message': 'Successfully Placed the order', 'indicator': '0'}, 'Status': 200, 'Error': None}\n",
      "2024-05-13 08:30:20.250157\n"
     ]
    }
   ],
   "source": [
    "print(breeze.square_off(exchange_code=\"NFO\",\n",
    "                    product=\"options\",\n",
    "                    stock_code=stockCode,\n",
    "                    expiry_date=expiryDate,\n",
    "                    right=\"Call\",\n",
    "                    strike_price=strikePriceCall,\n",
    "                    action=\"sell\",\n",
    "                    order_type=\"market\",\n",
    "                    validity=\"day\",\n",
    "                    stoploss=\"0\",\n",
    "                    quantity=quantity,\n",
    "                    price=\"0\",\n",
    "                    validity_date=currentDate,\n",
    "                    trade_password=\"\",\n",
    "                    disclosed_quantity=\"0\"))\n",
    "print(datetime.now())"
   ]
  },
  {
   "cell_type": "markdown",
   "metadata": {},
   "source": [
    "## Buy Put"
   ]
  },
  {
   "cell_type": "code",
   "execution_count": 37,
   "metadata": {},
   "outputs": [
    {
     "name": "stdout",
     "output_type": "stream",
     "text": [
      "{'Success': {'order_id': '202405132600024593', 'message': 'Successfully Placed the order'}, 'Status': 200, 'Error': None}\n",
      "2024-05-13 08:54:37.745768\n"
     ]
    }
   ],
   "source": [
    "strikePricePut='22000'\n",
    "stoplossPut=''\n",
    "\n",
    "print(breeze.place_order(stock_code=stockCode,\n",
    "                    exchange_code=\"NFO\",\n",
    "                    product=\"options\",\n",
    "                    action=\"buy\",\n",
    "                    order_type=\"market\",\n",
    "                    stoploss=stoplossPut,\n",
    "                    quantity=quantity,\n",
    "                    price=\"0\",\n",
    "                    validity=\"day\",\n",
    "                    validity_date=currentDate,\n",
    "                    disclosed_quantity=\"0\",\n",
    "                    expiry_date=expiryDate,\n",
    "                    right=\"put\",\n",
    "                    strike_price=strikePricePut))\n",
    "print(datetime.now())"
   ]
  },
  {
   "cell_type": "code",
   "execution_count": 38,
   "metadata": {},
   "outputs": [
    {
     "name": "stdout",
     "output_type": "stream",
     "text": [
      "{'Success': {'order_id': '202405132600024814', 'message': 'Successfully Placed the order', 'indicator': '0'}, 'Status': 200, 'Error': None}\n",
      "2024-05-13 08:57:48.970907\n"
     ]
    }
   ],
   "source": [
    "print(breeze.square_off(exchange_code=\"NFO\",\n",
    "                    product=\"options\",\n",
    "                    stock_code=stockCode,\n",
    "                    expiry_date=expiryDate,\n",
    "                    right=\"Put\",\n",
    "                    strike_price=strikePricePut,\n",
    "                    action=\"sell\",\n",
    "                    order_type=\"market\",\n",
    "                    validity=\"day\",\n",
    "                    stoploss=\"0\",\n",
    "                    quantity=quantity,\n",
    "                    price=\"0\",\n",
    "                    validity_date=currentDate,\n",
    "                    trade_password=\"\",\n",
    "                    disclosed_quantity=\"0\"))\n",
    "\n",
    "print(datetime.now())"
   ]
  },
  {
   "cell_type": "code",
   "execution_count": 10,
   "metadata": {},
   "outputs": [
    {
     "data": {
      "text/plain": [
       "{'Success': {'order_id': '202405091300000029',\n",
       "  'message': 'Your Order Canceled Successfully'},\n",
       " 'Status': 200,\n",
       " 'Error': None}"
      ]
     },
     "execution_count": 10,
     "metadata": {},
     "output_type": "execute_result"
    }
   ],
   "source": [
    "breeze.cancel_order(exchange_code=\"NFO\",\n",
    "                    order_id=\"202405091300000029\")"
   ]
  },
  {
   "cell_type": "code",
   "execution_count": null,
   "metadata": {},
   "outputs": [
    {
     "name": "stdout",
     "output_type": "stream",
     "text": [
      "{'Success': None, 'Status': 500, 'Error': 'Please try later as expiry is underway.:'}\n",
      "2024-05-08 10:10:16.747765\n"
     ]
    }
   ],
   "source": [
    "strikePricePut='22300'\n",
    "stoplossPut=''\n",
    "print(breeze.square_off(exchange_code=\"NFO\",\n",
    "                    product=\"options\",\n",
    "                    stock_code=stockCode,\n",
    "                    expiry_date=expiryDate,\n",
    "                    right=\"Put\",\n",
    "                    strike_price=strikePricePut,\n",
    "                    action=\"sell\",\n",
    "                    order_type=\"market\",\n",
    "                    validity=\"day\",\n",
    "                    stoploss=\"0\",\n",
    "                    quantity=quantity,\n",
    "                    price=\"0\",\n",
    "                    validity_date=currentDate,\n",
    "                    trade_password=\"\",\n",
    "                    disclosed_quantity=\"0\"))\n",
    "\n",
    "print(datetime.now())"
   ]
  }
 ],
 "metadata": {
  "kernelspec": {
   "display_name": "Python 3",
   "language": "python",
   "name": "python3"
  },
  "language_info": {
   "codemirror_mode": {
    "name": "ipython",
    "version": 3
   },
   "file_extension": ".py",
   "mimetype": "text/x-python",
   "name": "python",
   "nbconvert_exporter": "python",
   "pygments_lexer": "ipython3",
   "version": "3.10.13"
  }
 },
 "nbformat": 4,
 "nbformat_minor": 2
}
