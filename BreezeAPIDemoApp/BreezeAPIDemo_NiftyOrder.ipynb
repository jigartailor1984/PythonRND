{
 "cells": [
  {
   "cell_type": "code",
   "execution_count": null,
   "metadata": {},
   "outputs": [],
   "source": [
    "pip install --upgrade breeze-connect"
   ]
  },
  {
   "cell_type": "code",
   "execution_count": 2,
   "metadata": {},
   "outputs": [],
   "source": [
    "from breeze_connect import BreezeConnect\n",
    "from datetime import datetime\n",
    "import urllib\n",
    "import numpy as np"
   ]
  },
  {
   "cell_type": "code",
   "execution_count": 3,
   "metadata": {},
   "outputs": [],
   "source": [
    "Api_key=\"^42y6975650632#94258t282@r718`77\"\n",
    "Api_Secret=\"i0td81HE339202156w96102D98497633\""
   ]
  },
  {
   "cell_type": "code",
   "execution_count": 4,
   "metadata": {},
   "outputs": [
    {
     "name": "stdout",
     "output_type": "stream",
     "text": [
      "https://api.icicidirect.com/apiuser/login?api_key=%5E42y6975650632%2394258t282%40r718%6077\n"
     ]
    }
   ],
   "source": [
    "print(\"https://api.icicidirect.com/apiuser/login?api_key=\"+urllib.parse.quote_plus(Api_key))"
   ]
  },
  {
   "cell_type": "code",
   "execution_count": 5,
   "metadata": {},
   "outputs": [],
   "source": [
    "Api_Session=\"39908028\""
   ]
  },
  {
   "cell_type": "code",
   "execution_count": 13,
   "metadata": {},
   "outputs": [
    {
     "data": {
      "text/plain": [
       "'2024-05-03T06:00:00.000Z'"
      ]
     },
     "execution_count": 13,
     "metadata": {},
     "output_type": "execute_result"
    }
   ],
   "source": [
    "currentDate=datetime(2024,5,3,6,0,0,0).strftime('%Y-%m-%dT%H:%M:%S.000Z')\n",
    "currentDate"
   ]
  },
  {
   "cell_type": "code",
   "execution_count": 14,
   "metadata": {},
   "outputs": [
    {
     "data": {
      "text/plain": [
       "'2024-05-09T06:00:00.000Z'"
      ]
     },
     "execution_count": 14,
     "metadata": {},
     "output_type": "execute_result"
    }
   ],
   "source": [
    "expiryDate=datetime(2024,5,9,6,0,0,0).strftime('%Y-%m-%dT%H:%M:%S.000Z')\n",
    "expiryDate"
   ]
  },
  {
   "cell_type": "code",
   "execution_count": 8,
   "metadata": {},
   "outputs": [],
   "source": [
    "breeze = BreezeConnect(api_key=Api_key)\n",
    "breeze.generate_session(api_secret=Api_Secret,\n",
    "                        session_token=Api_Session)"
   ]
  },
  {
   "cell_type": "markdown",
   "metadata": {},
   "source": [
    "## Buy Call"
   ]
  },
  {
   "cell_type": "code",
   "execution_count": null,
   "metadata": {},
   "outputs": [],
   "source": [
    "strikePriceCall='22800'\n",
    "stoplossCall=''\n",
    "breeze.place_order(stock_code=\"NIFTY\",\n",
    "                    exchange_code=\"NFO\",\n",
    "                    product=\"options\",\n",
    "                    action=\"buy\",\n",
    "                    order_type=\"market\",\n",
    "                    stoploss=stoplossCall,\n",
    "                    quantity=\"50\",\n",
    "                    price=\"\",\n",
    "                    validity=\"day\",\n",
    "                    validity_date=currentDate,\n",
    "                    disclosed_quantity=\"0\",\n",
    "                    expiry_date=expiryDate,\n",
    "                    right=\"call\",\n",
    "                    strike_price=\"22800\")"
   ]
  },
  {
   "cell_type": "code",
   "execution_count": null,
   "metadata": {},
   "outputs": [],
   "source": [
    "breeze.square_off(exchange_code=\"NFO\",\n",
    "                    product=\"options\",\n",
    "                    stock_code=\"NIFTY\",\n",
    "                    expiry_date=expiryDate,\n",
    "                    right=\"Call\",\n",
    "                    strike_price=strikePriceCall,\n",
    "                    action=\"sell\",\n",
    "                    order_type=\"market\",\n",
    "                    validity=\"day\",\n",
    "                    stoploss=\"0\",\n",
    "                    quantity=\"50\",\n",
    "                    price=\"0\",\n",
    "                    validity_date=currentDate,\n",
    "                    trade_password=\"\",\n",
    "                    disclosed_quantity=\"0\")"
   ]
  },
  {
   "cell_type": "markdown",
   "metadata": {},
   "source": [
    "## Buy Put"
   ]
  },
  {
   "cell_type": "code",
   "execution_count": null,
   "metadata": {},
   "outputs": [],
   "source": [
    "strikePricePut='22800'\n",
    "stoplossPut=''\n",
    "breeze.place_order(stock_code=\"NIFTY\",\n",
    "                    exchange_code=\"NFO\",\n",
    "                    product=\"options\",\n",
    "                    action=\"buy\",\n",
    "                    order_type=\"market\",\n",
    "                    stoploss=stoplossPut,\n",
    "                    quantity=\"50\",\n",
    "                    price=\"\",\n",
    "                    validity=\"day\",\n",
    "                    validity_date=currentDate,\n",
    "                    disclosed_quantity=\"0\",\n",
    "                    expiry_date=expiryDate,\n",
    "                    right=\"put\",\n",
    "                    strike_price=strikePricePut)"
   ]
  },
  {
   "cell_type": "code",
   "execution_count": null,
   "metadata": {},
   "outputs": [],
   "source": [
    "breeze.square_off(exchange_code=\"NFO\",\n",
    "                    product=\"options\",\n",
    "                    stock_code=\"NIFTY\",\n",
    "                    expiry_date=expiryDate,\n",
    "                    right=\"Put\",\n",
    "                    strike_price=strikePriceCall,\n",
    "                    action=\"sell\",\n",
    "                    order_type=\"market\",\n",
    "                    validity=\"day\",\n",
    "                    stoploss=\"0\",\n",
    "                    quantity=\"50\",\n",
    "                    price=\"0\",\n",
    "                    validity_date=currentDate,\n",
    "                    trade_password=\"\",\n",
    "                    disclosed_quantity=\"0\")"
   ]
  }
 ],
 "metadata": {
  "kernelspec": {
   "display_name": "Python 3",
   "language": "python",
   "name": "python3"
  },
  "language_info": {
   "codemirror_mode": {
    "name": "ipython",
    "version": 3
   },
   "file_extension": ".py",
   "mimetype": "text/x-python",
   "name": "python",
   "nbconvert_exporter": "python",
   "pygments_lexer": "ipython3",
   "version": "3.10.13"
  }
 },
 "nbformat": 4,
 "nbformat_minor": 2
}
