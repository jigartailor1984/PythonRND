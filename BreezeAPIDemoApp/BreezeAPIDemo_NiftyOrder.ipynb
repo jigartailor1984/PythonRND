{
 "cells": [
  {
   "cell_type": "markdown",
   "metadata": {},
   "source": [
    "## Initial Setup"
   ]
  },
  {
   "cell_type": "code",
   "execution_count": null,
   "metadata": {},
   "outputs": [],
   "source": [
    "pip install --upgrade breeze-connect"
   ]
  },
  {
   "cell_type": "code",
   "execution_count": 1,
   "metadata": {},
   "outputs": [],
   "source": [
    "from breeze_connect import BreezeConnect\n",
    "from datetime import datetime\n",
    "import urllib\n",
    "import numpy as np"
   ]
  },
  {
   "cell_type": "code",
   "execution_count": 2,
   "metadata": {},
   "outputs": [],
   "source": [
    "Api_key=\"^42y6975650632#94258t282@r718`77\"\n",
    "Api_Secret=\"i0td81HE339202156w96102D98497633\""
   ]
  },
  {
   "cell_type": "code",
   "execution_count": 3,
   "metadata": {},
   "outputs": [
    {
     "name": "stdout",
     "output_type": "stream",
     "text": [
      "https://api.icicidirect.com/apiuser/login?api_key=%5E42y6975650632%2394258t282%40r718%6077\n"
     ]
    }
   ],
   "source": [
    "print(\"https://api.icicidirect.com/apiuser/login?api_key=\"+urllib.parse.quote_plus(Api_key))"
   ]
  },
  {
   "cell_type": "code",
   "execution_count": 3,
   "metadata": {},
   "outputs": [],
   "source": [
    "Api_Session=\"40820816\""
   ]
  },
  {
   "cell_type": "code",
   "execution_count": 5,
   "metadata": {},
   "outputs": [
    {
     "data": {
      "text/plain": [
       "'2024-05-17T06:00:00.000Z'"
      ]
     },
     "execution_count": 5,
     "metadata": {},
     "output_type": "execute_result"
    }
   ],
   "source": [
    "currentDate=datetime(2024,5,17,6,0,0,0).strftime('%Y-%m-%dT%H:%M:%S.000Z')\n",
    "currentDate"
   ]
  },
  {
   "cell_type": "code",
   "execution_count": 6,
   "metadata": {},
   "outputs": [
    {
     "data": {
      "text/plain": [
       "'2024-05-23T06:00:00.000Z'"
      ]
     },
     "execution_count": 6,
     "metadata": {},
     "output_type": "execute_result"
    }
   ],
   "source": [
    "expiryDate=datetime(2024,5,23,6,0,0,0).strftime('%Y-%m-%dT%H:%M:%S.000Z')\n",
    "expiryDate"
   ]
  },
  {
   "cell_type": "code",
   "execution_count": 6,
   "metadata": {},
   "outputs": [],
   "source": [
    "stockCode='NIFTY'\n",
    "quantity='25'"
   ]
  },
  {
   "cell_type": "code",
   "execution_count": 4,
   "metadata": {},
   "outputs": [],
   "source": [
    "breeze = BreezeConnect(api_key=Api_key)\n",
    "breeze.generate_session(api_secret=Api_Secret,\n",
    "                        session_token=Api_Session)"
   ]
  },
  {
   "cell_type": "code",
   "execution_count": 8,
   "metadata": {},
   "outputs": [
    {
     "data": {
      "text/plain": [
       "{'Success': {'exg_trade_date': {'NSE': '21-May-2024',\n",
       "   'BSE': '21-May-2024',\n",
       "   'FNO': '21-May-2024',\n",
       "   'NDX': '21-May-2024'},\n",
       "  'exg_status': {'NSE': 'C', 'BSE': 'C', 'FNO': 'Y', 'NDX': 'C'},\n",
       "  'segments_allowed': {'Trading': 'Y',\n",
       "   'Equity': 'Y',\n",
       "   'Derivatives': 'Y',\n",
       "   'Currency': 'Y'},\n",
       "  'idirect_userid': 'WT122465',\n",
       "  'idirect_user_name': 'JIGAR ISHWARLAL TAILOR',\n",
       "  'idirect_ORD_TYP': '',\n",
       "  'idirect_lastlogin_time': '19-May-2024 14:33:14',\n",
       "  'mf_holding_mode_popup_flg': 'Y',\n",
       "  'commodity_exchange_status': 'Y',\n",
       "  'commodity_trade_date': '20-May-2024',\n",
       "  'commodity_allowed': 'C'},\n",
       " 'Status': 200,\n",
       " 'Error': None}"
      ]
     },
     "execution_count": 8,
     "metadata": {},
     "output_type": "execute_result"
    }
   ],
   "source": [
    "breeze.get_customer_details(api_session=Api_Session)"
   ]
  },
  {
   "cell_type": "code",
   "execution_count": 7,
   "metadata": {},
   "outputs": [
    {
     "data": {
      "text/plain": [
       "{'exchange_code': 'NSE',\n",
       " 'exchange_stock_code': 'NIFTY 50',\n",
       " 'isec_stock_code': 'NIFTY',\n",
       " 'isec_token': 'NIFTY 50',\n",
       " 'company name': 'NIFTY 50',\n",
       " 'isec_token_level1': '4.1!NIFTY 50',\n",
       " 'isec_token_level2': '4.2!NIFTY 50'}"
      ]
     },
     "execution_count": 7,
     "metadata": {},
     "output_type": "execute_result"
    }
   ],
   "source": [
    "breeze.get_names(exchange_code=\"NSE\",stock_code=stockCode)"
   ]
  },
  {
   "cell_type": "markdown",
   "metadata": {},
   "source": [
    "## Buy Call"
   ]
  },
  {
   "cell_type": "code",
   "execution_count": 35,
   "metadata": {},
   "outputs": [
    {
     "name": "stdout",
     "output_type": "stream",
     "text": [
      "{'Success': {'order_id': '202405132600021124', 'message': 'Successfully Placed the order'}, 'Status': 200, 'Error': None}\n",
      "2024-05-13 08:20:03.495962\n"
     ]
    }
   ],
   "source": [
    "strikePriceCall='22300'\n",
    "stoplossCall=''\n",
    "\n",
    "print(breeze.place_order(stock_code=stockCode,\n",
    "                    exchange_code=\"NFO\",\n",
    "                    product=\"options\",\n",
    "                    action=\"buy\",\n",
    "                    order_type=\"market\",\n",
    "                    stoploss=stoplossCall,\n",
    "                    quantity=quantity,\n",
    "                    price=\"\",\n",
    "                    validity=\"day\",\n",
    "                    validity_date=currentDate,\n",
    "                    disclosed_quantity=\"0\",\n",
    "                    expiry_date=expiryDate,\n",
    "                    right=\"call\",\n",
    "                    strike_price=strikePriceCall))\n",
    "print(datetime.now())\n"
   ]
  },
  {
   "cell_type": "code",
   "execution_count": 36,
   "metadata": {},
   "outputs": [
    {
     "name": "stdout",
     "output_type": "stream",
     "text": [
      "{'Success': {'order_id': '202405132600022432', 'message': 'Successfully Placed the order', 'indicator': '0'}, 'Status': 200, 'Error': None}\n",
      "2024-05-13 08:30:20.250157\n"
     ]
    }
   ],
   "source": [
    "print(breeze.square_off(exchange_code=\"NFO\",\n",
    "                    product=\"options\",\n",
    "                    stock_code=stockCode,\n",
    "                    expiry_date=expiryDate,\n",
    "                    right=\"Call\",\n",
    "                    strike_price=strikePriceCall,\n",
    "                    action=\"sell\",\n",
    "                    order_type=\"market\",\n",
    "                    validity=\"day\",\n",
    "                    stoploss=\"0\",\n",
    "                    quantity=quantity,\n",
    "                    price=\"0\",\n",
    "                    validity_date=currentDate,\n",
    "                    trade_password=\"\",\n",
    "                    disclosed_quantity=\"0\"))\n",
    "print(datetime.now())"
   ]
  },
  {
   "cell_type": "markdown",
   "metadata": {},
   "source": [
    "## Buy Put"
   ]
  },
  {
   "cell_type": "code",
   "execution_count": 37,
   "metadata": {},
   "outputs": [
    {
     "name": "stdout",
     "output_type": "stream",
     "text": [
      "{'Success': {'order_id': '202405132600024593', 'message': 'Successfully Placed the order'}, 'Status': 200, 'Error': None}\n",
      "2024-05-13 08:54:37.745768\n"
     ]
    }
   ],
   "source": [
    "strikePricePut='22150'\n",
    "stoplossPut=''\n",
    "\n",
    "print(breeze.place_order(stock_code=stockCode,\n",
    "                    exchange_code=\"NFO\",\n",
    "                    product=\"options\",\n",
    "                    action=\"buy\",\n",
    "                    order_type=\"market\",\n",
    "                    stoploss=stoplossPut,\n",
    "                    quantity=quantity,\n",
    "                    price=\"0\",\n",
    "                    validity=\"day\",\n",
    "                    validity_date=currentDate,\n",
    "                    disclosed_quantity=\"0\",\n",
    "                    expiry_date=expiryDate,\n",
    "                    right=\"put\",\n",
    "                    strike_price=strikePricePut))\n",
    "print(datetime.now())"
   ]
  },
  {
   "cell_type": "code",
   "execution_count": 38,
   "metadata": {},
   "outputs": [
    {
     "name": "stdout",
     "output_type": "stream",
     "text": [
      "{'Success': {'order_id': '202405132600024814', 'message': 'Successfully Placed the order', 'indicator': '0'}, 'Status': 200, 'Error': None}\n",
      "2024-05-13 08:57:48.970907\n"
     ]
    }
   ],
   "source": [
    "print(breeze.square_off(exchange_code=\"NFO\",\n",
    "                    product=\"options\",\n",
    "                    stock_code=stockCode,\n",
    "                    expiry_date=expiryDate,\n",
    "                    right=\"Put\",\n",
    "                    strike_price=strikePricePut,\n",
    "                    action=\"sell\",\n",
    "                    order_type=\"market\",\n",
    "                    validity=\"day\",\n",
    "                    stoploss=\"0\",\n",
    "                    quantity=quantity,\n",
    "                    price=\"0\",\n",
    "                    validity_date=currentDate,\n",
    "                    trade_password=\"\",\n",
    "                    disclosed_quantity=\"0\"))\n",
    "\n",
    "print(datetime.now())"
   ]
  },
  {
   "cell_type": "code",
   "execution_count": 10,
   "metadata": {},
   "outputs": [
    {
     "data": {
      "text/plain": [
       "{'Success': {'order_id': '202405091300000029',\n",
       "  'message': 'Your Order Canceled Successfully'},\n",
       " 'Status': 200,\n",
       " 'Error': None}"
      ]
     },
     "execution_count": 10,
     "metadata": {},
     "output_type": "execute_result"
    }
   ],
   "source": [
    "breeze.cancel_order(exchange_code=\"NFO\",\n",
    "                    order_id=\"202405091300000029\")"
   ]
  },
  {
   "cell_type": "code",
   "execution_count": null,
   "metadata": {},
   "outputs": [
    {
     "name": "stdout",
     "output_type": "stream",
     "text": [
      "{'Success': None, 'Status': 500, 'Error': 'Please try later as expiry is underway.:'}\n",
      "2024-05-08 10:10:16.747765\n"
     ]
    }
   ],
   "source": [
    "strikePricePut='22300'\n",
    "stoplossPut=''\n",
    "print(breeze.square_off(exchange_code=\"NFO\",\n",
    "                    product=\"options\",\n",
    "                    stock_code=stockCode,\n",
    "                    expiry_date=expiryDate,\n",
    "                    right=\"Put\",\n",
    "                    strike_price=strikePricePut,\n",
    "                    action=\"sell\",\n",
    "                    order_type=\"market\",\n",
    "                    validity=\"day\",\n",
    "                    stoploss=\"0\",\n",
    "                    quantity=quantity,\n",
    "                    price=\"0\",\n",
    "                    validity_date=currentDate,\n",
    "                    trade_password=\"\",\n",
    "                    disclosed_quantity=\"0\"))\n",
    "\n",
    "print(datetime.now())"
   ]
  }
 ],
 "metadata": {
  "kernelspec": {
   "display_name": "Python 3",
   "language": "python",
   "name": "python3"
  },
  "language_info": {
   "codemirror_mode": {
    "name": "ipython",
    "version": 3
   },
   "file_extension": ".py",
   "mimetype": "text/x-python",
   "name": "python",
   "nbconvert_exporter": "python",
   "pygments_lexer": "ipython3",
   "version": "3.10.5"
  }
 },
 "nbformat": 4,
 "nbformat_minor": 2
}
