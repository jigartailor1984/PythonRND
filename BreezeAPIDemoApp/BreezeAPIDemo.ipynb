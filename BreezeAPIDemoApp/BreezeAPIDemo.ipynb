{
  "nbformat": 4,
  "nbformat_minor": 0,
  "metadata": {
    "colab": {
      "provenance": []
    },
    "kernelspec": {
      "name": "python3",
      "display_name": "Python 3"
    },
    "language_info": {
      "name": "python"
    }
  },
  "cells": [
    {
      "cell_type": "markdown",
      "source": [
        "# Breeze API Demo"
      ],
      "metadata": {
        "id": "YhLyUnV8A0Y1"
      }
    },
    {
      "cell_type": "markdown",
      "source": [
        "## Install dependincies"
      ],
      "metadata": {
        "id": "UtfOJ5kDBK1m"
      }
    },
    {
      "cell_type": "code",
      "source": [
        "pip install breeze-connect"
      ],
      "metadata": {
        "id": "Gh15ECI3BRUn"
      },
      "execution_count": null,
      "outputs": []
    },
    {
      "cell_type": "markdown",
      "source": [
        "## Initial Keys and session Setup"
      ],
      "metadata": {
        "id": "tKHqCEiEA-e-"
      }
    },
    {
      "cell_type": "code",
      "execution_count": 3,
      "metadata": {
        "id": "CjV8WvK3AlFB"
      },
      "outputs": [],
      "source": [
        "APIKey=\"^42y6975650632#94258t282@r718`77\"\n",
        "SecrateKey=\"i0td81HE339202156w96102D98497633\"\n",
        "ApiSession=\"36075145\""
      ]
    },
    {
      "cell_type": "markdown",
      "source": [
        "## Connect to Web Socket"
      ],
      "metadata": {
        "id": "vrAnQtu-BiCy"
      }
    },
    {
      "cell_type": "code",
      "source": [
        "from breeze_connect import BreezeConnect\n",
        "\n",
        "# Initialize SDK\n",
        "breeze = BreezeConnect(api_key=APIKey)\n",
        "\n",
        "# Obtain your session key from https://api.icicidirect.com/apiuser/login?api_key=YOUR_API_KEY\n",
        "# Incase your api-key has special characters(like +,=,!) then encode the api key before using in the url as shown below.\n",
        "# import urllib\n",
        "# print(\"https://api.icicidirect.com/apiuser/login?api_key=\"+urllib.parse.quote_plus(APIKey))\n",
        "\n",
        "# Generate Session\n",
        "breeze.generate_session(api_secret=SecrateKey,\n",
        "                        session_token=ApiSession)\n",
        "\n",
        "# Connect to websocket(it will connect to tick-by-tick data server)\n",
        "breeze.ws_connect()\n"
      ],
      "metadata": {
        "id": "StOsoxITBsVp"
      },
      "execution_count": 4,
      "outputs": []
    },
    {
      "cell_type": "markdown",
      "source": [
        "## Subscribe to Ticks"
      ],
      "metadata": {
        "id": "9oREOhR9B1yf"
      }
    },
    {
      "cell_type": "code",
      "source": [
        "# Callback to receive ticks.\n",
        "def on_ticks(ticks):\n",
        "    print(\"Ticks: {}\".format(ticks))\n",
        "\n",
        "breeze.on_ticks=on_ticks"
      ],
      "metadata": {
        "id": "viVmSM1uB7Yn"
      },
      "execution_count": 5,
      "outputs": []
    },
    {
      "cell_type": "code",
      "source": [
        "data=breeze.get_funds()\n",
        "print(data)"
      ],
      "metadata": {
        "colab": {
          "base_uri": "https://localhost:8080/"
        },
        "id": "WYlKr8hmCUBd",
        "outputId": "a52cc853-b8a7-4155-b9f3-b0c16f9b44c8"
      },
      "execution_count": 7,
      "outputs": [
        {
          "output_type": "stream",
          "name": "stdout",
          "text": [
            "{'Success': {'bank_account': '088401506910', 'total_bank_balance': 34024.52, 'allocated_equity': 34024.52, 'allocated_fno': 0.0, 'block_by_trade_equity': 0.0, 'block_by_trade_fno': 0.0, 'block_by_trade_balance': 0.0, 'unallocated_balance': '0'}, 'Status': 200, 'Error': None}\n"
          ]
        }
      ]
    },
    {
      "cell_type": "code",
      "source": [
        "data=breeze.get_option_chain_quotes(stock_code=\"CNXBAN\",exchange_code=\"NFO\",expiry_date=\"6-MAR-2024\",product_type=\"options\",right=\"call\",strike_price=\"45000\")\n",
        "data"
      ],
      "metadata": {
        "colab": {
          "base_uri": "https://localhost:8080/"
        },
        "id": "Rz1-YX-vCnBn",
        "outputId": "82a68f26-0aba-4086-fe8c-58bcfaa22dae"
      },
      "execution_count": 9,
      "outputs": [
        {
          "output_type": "execute_result",
          "data": {
            "text/plain": [
              "{'Success': [{'exchange_code': 'NFO',\n",
              "   'product_type': 'Options',\n",
              "   'stock_code': 'CNXBAN',\n",
              "   'expiry_date': '06-Mar-2024',\n",
              "   'right': 'Call',\n",
              "   'strike_price': 45000.0,\n",
              "   'ltp': 2369.9,\n",
              "   'ltt': '01-Mar-2024 15:29:45',\n",
              "   'best_bid_price': 2361.3,\n",
              "   'best_bid_quantity': '135',\n",
              "   'best_offer_price': 2369.55,\n",
              "   'best_offer_quantity': '15',\n",
              "   'open': 1579.95,\n",
              "   'high': 2426.5,\n",
              "   'low': 1579.95,\n",
              "   'previous_close': 2367.35,\n",
              "   'ltp_percent_change': 71.44,\n",
              "   'upper_circuit': 7151.05,\n",
              "   'lower_circuit': 328.85,\n",
              "   'total_quantity_traded': '117405',\n",
              "   'spot_price': '47286.9',\n",
              "   'ltq': '30',\n",
              "   'open_interest': 36690.0,\n",
              "   'chnge_oi': -21810.0,\n",
              "   'total_buy_qty': '9240',\n",
              "   'total_sell_qty': '6630'}],\n",
              " 'Status': 200,\n",
              " 'Error': None}"
            ]
          },
          "metadata": {},
          "execution_count": 9
        }
      ]
    },
    {
      "cell_type": "code",
      "source": [
        "data=breeze.get_quotes(stock_code=\"CNXBAN\", exchange_code=\"NFO\",expiry_date=\"27-MAR-2024\",product_type=\"futures\",right=\"\",strike_price=\"\")\n",
        "data"
      ],
      "metadata": {
        "colab": {
          "base_uri": "https://localhost:8080/"
        },
        "id": "zYfRRjOLFLqf",
        "outputId": "bd41534e-4bc6-4d62-e607-fde12af02e5b"
      },
      "execution_count": 12,
      "outputs": [
        {
          "output_type": "execute_result",
          "data": {
            "text/plain": [
              "{'Success': [{'exchange_code': 'NFO',\n",
              "   'product_type': 'Future',\n",
              "   'stock_code': 'CNXBAN',\n",
              "   'expiry_date': '27-Mar-2024',\n",
              "   'right': '*',\n",
              "   'strike_price': 0.0,\n",
              "   'ltp': 47598.95,\n",
              "   'ltt': '01-Mar-2024 15:29:59',\n",
              "   'best_bid_price': 47580.0,\n",
              "   'best_bid_quantity': '180',\n",
              "   'best_offer_price': 47600.0,\n",
              "   'best_offer_quantity': '3285',\n",
              "   'open': 46675.0,\n",
              "   'high': 47637.4,\n",
              "   'low': 46629.8,\n",
              "   'previous_close': 47578.0,\n",
              "   'ltp_percent_change': 2.26,\n",
              "   'upper_circuit': 52335.8,\n",
              "   'lower_circuit': 42820.2,\n",
              "   'total_quantity_traded': '3512955',\n",
              "   'spot_price': '47286.9'}],\n",
              " 'Status': 200,\n",
              " 'Error': None}"
            ]
          },
          "metadata": {},
          "execution_count": 12
        }
      ]
    },
    {
      "cell_type": "code",
      "source": [
        "data=breeze.get_quotes(stock_code=\"CNXBAN\", exchange_code=\"NFO\",expiry_date=\"6-MAR-2024\",product_type=\"options\",right=\"CALL\",strike_price=\"47600\")\n",
        "data"
      ],
      "metadata": {
        "colab": {
          "base_uri": "https://localhost:8080/"
        },
        "id": "E_NlxiuPE21z",
        "outputId": "e6667e2e-8473-4dc7-9d1b-a23166fa2757"
      },
      "execution_count": 14,
      "outputs": [
        {
          "output_type": "execute_result",
          "data": {
            "text/plain": [
              "{'Success': [{'exchange_code': 'NFO',\n",
              "   'product_type': '',\n",
              "   'stock_code': 'CNXBAN',\n",
              "   'expiry_date': '06-Mar-2024',\n",
              "   'right': 'C',\n",
              "   'strike_price': 47600.0,\n",
              "   'ltp': 268.0,\n",
              "   'ltt': '01-Mar-2024 15:29:59',\n",
              "   'best_bid_price': 265.0,\n",
              "   'best_bid_quantity': '60',\n",
              "   'best_offer_price': 268.5,\n",
              "   'best_offer_quantity': '30',\n",
              "   'open': 45.7,\n",
              "   'high': 306.2,\n",
              "   'low': 45.7,\n",
              "   'previous_close': 279.1,\n",
              "   'ltp_percent_change': 402.34,\n",
              "   'upper_circuit': 1186.2,\n",
              "   'lower_circuit': 0.25,\n",
              "   'total_quantity_traded': '21788460',\n",
              "   'spot_price': '47286.9'}],\n",
              " 'Status': 200,\n",
              " 'Error': None}"
            ]
          },
          "metadata": {},
          "execution_count": 14
        }
      ]
    },
    {
      "cell_type": "code",
      "source": [
        "# subscribe to Real Time Streaming OHLCV Data of stocks\n",
        "breeze.subscribe_feeds(exchange_code=\"NFO\", stock_code=\"CNXBAN\", product_type=\"options\", expiry_date=\"6-MAR-2024\", strike_price=\"47600\", right=\"Call\",interval=\"1minute\")\n"
      ],
      "metadata": {
        "id": "zZ5DOC4qDzon"
      },
      "execution_count": null,
      "outputs": []
    },
    {
      "cell_type": "code",
      "source": [
        "# subscribe to Real Time Streaming OHLCV Data of stocks\n",
        "breeze.unsubscribe_feeds(exchange_code=\"NFO\", stock_code=\"CNXBAN\", product_type=\"options\", expiry_date=\"6-MAR-2024\", strike_price=\"47600\", right=\"Call\",interval=\"1minute\")\n"
      ],
      "metadata": {
        "id": "shSPrmjVEbLO"
      },
      "execution_count": null,
      "outputs": []
    }
  ]
}