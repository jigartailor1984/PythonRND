{
 "cells": [
  {
   "cell_type": "markdown",
   "metadata": {},
   "source": [
    "# BreezeAPI Options Strategy"
   ]
  },
  {
   "cell_type": "markdown",
   "metadata": {},
   "source": [
    "## Install BreezeAPI package"
   ]
  },
  {
   "cell_type": "code",
   "execution_count": 1,
   "metadata": {},
   "outputs": [
    {
     "name": "stdout",
     "output_type": "stream",
     "text": [
      "Defaulting to user installation because normal site-packages is not writeable\n",
      "Requirement already satisfied: pip in c:\\program files\\python312\\lib\\site-packages (24.0)\n"
     ]
    }
   ],
   "source": [
    "! pip install --upgrade pip"
   ]
  },
  {
   "cell_type": "code",
   "execution_count": 2,
   "metadata": {},
   "outputs": [
    {
     "name": "stdout",
     "output_type": "stream",
     "text": [
      "Defaulting to user installation because normal site-packages is not writeable\n",
      "Requirement already satisfied: breeze-connect in c:\\users\\jigar_tailor\\appdata\\roaming\\python\\python312\\site-packages (1.0.47)\n",
      "Collecting breeze-connect\n",
      "  Downloading breeze_connect-1.0.53.tar.gz (35 kB)\n",
      "  Installing build dependencies: started\n",
      "  Installing build dependencies: finished with status 'done'\n",
      "  Getting requirements to build wheel: started\n",
      "  Getting requirements to build wheel: finished with status 'done'\n",
      "  Installing backend dependencies: started\n",
      "  Installing backend dependencies: finished with status 'done'\n",
      "  Preparing metadata (pyproject.toml): started\n",
      "  Preparing metadata (pyproject.toml): finished with status 'done'\n",
      "Requirement already satisfied: python-socketio[client] in c:\\users\\jigar_tailor\\appdata\\roaming\\python\\python312\\site-packages (from breeze-connect) (5.11.1)\n",
      "Requirement already satisfied: requests in c:\\users\\jigar_tailor\\appdata\\roaming\\python\\python312\\site-packages (from breeze-connect) (2.31.0)\n",
      "Requirement already satisfied: pandas in c:\\users\\jigar_tailor\\appdata\\roaming\\python\\python312\\site-packages (from breeze-connect) (2.2.2)\n",
      "Requirement already satisfied: numpy>=1.26.0 in c:\\program files\\python312\\lib\\site-packages (from pandas->breeze-connect) (1.26.4)\n",
      "Requirement already satisfied: python-dateutil>=2.8.2 in c:\\program files\\python312\\lib\\site-packages (from pandas->breeze-connect) (2.8.2)\n",
      "Requirement already satisfied: pytz>=2020.1 in c:\\program files\\python312\\lib\\site-packages (from pandas->breeze-connect) (2024.1)\n",
      "Requirement already satisfied: tzdata>=2022.7 in c:\\program files\\python312\\lib\\site-packages (from pandas->breeze-connect) (2024.1)\n",
      "Requirement already satisfied: bidict>=0.21.0 in c:\\users\\jigar_tailor\\appdata\\roaming\\python\\python312\\site-packages (from python-socketio[client]->breeze-connect) (0.22.1)\n",
      "Requirement already satisfied: python-engineio>=4.8.0 in c:\\users\\jigar_tailor\\appdata\\roaming\\python\\python312\\site-packages (from python-socketio[client]->breeze-connect) (4.9.0)\n",
      "Requirement already satisfied: websocket-client>=0.54.0 in c:\\users\\jigar_tailor\\appdata\\roaming\\python\\python312\\site-packages (from python-socketio[client]->breeze-connect) (1.7.0)\n",
      "Requirement already satisfied: charset-normalizer<4,>=2 in c:\\users\\jigar_tailor\\appdata\\roaming\\python\\python312\\site-packages (from requests->breeze-connect) (3.3.2)\n",
      "Requirement already satisfied: idna<4,>=2.5 in c:\\users\\jigar_tailor\\appdata\\roaming\\python\\python312\\site-packages (from requests->breeze-connect) (3.6)\n",
      "Requirement already satisfied: urllib3<3,>=1.21.1 in c:\\users\\jigar_tailor\\appdata\\roaming\\python\\python312\\site-packages (from requests->breeze-connect) (2.2.0)\n",
      "Requirement already satisfied: certifi>=2017.4.17 in c:\\users\\jigar_tailor\\appdata\\roaming\\python\\python312\\site-packages (from requests->breeze-connect) (2024.2.2)\n",
      "Requirement already satisfied: six>=1.5 in c:\\program files\\python312\\lib\\site-packages (from python-dateutil>=2.8.2->pandas->breeze-connect) (1.16.0)\n",
      "Requirement already satisfied: simple-websocket>=0.10.0 in c:\\users\\jigar_tailor\\appdata\\roaming\\python\\python312\\site-packages (from python-engineio>=4.8.0->python-socketio[client]->breeze-connect) (1.0.0)\n",
      "Requirement already satisfied: wsproto in c:\\users\\jigar_tailor\\appdata\\roaming\\python\\python312\\site-packages (from simple-websocket>=0.10.0->python-engineio>=4.8.0->python-socketio[client]->breeze-connect) (1.2.0)\n",
      "Requirement already satisfied: h11<1,>=0.9.0 in c:\\users\\jigar_tailor\\appdata\\roaming\\python\\python312\\site-packages (from wsproto->simple-websocket>=0.10.0->python-engineio>=4.8.0->python-socketio[client]->breeze-connect) (0.14.0)\n",
      "Building wheels for collected packages: breeze-connect\n",
      "  Building wheel for breeze-connect (pyproject.toml): started\n",
      "  Building wheel for breeze-connect (pyproject.toml): finished with status 'done'\n",
      "  Created wheel for breeze-connect: filename=breeze_connect-1.0.53-py3-none-any.whl size=25243 sha256=495c0f23d218b189b6044555aa019ecdd255af010dff87c5e3c3cffa76fe629b\n",
      "  Stored in directory: c:\\users\\jigar_tailor\\appdata\\local\\pip\\cache\\wheels\\85\\c1\\65\\dea6f2b6c658b6cbd52c370f0b445df20c0fdf3c85e510944b\n",
      "Successfully built breeze-connect\n",
      "Installing collected packages: breeze-connect\n",
      "  Attempting uninstall: breeze-connect\n",
      "    Found existing installation: breeze_connect 1.0.47\n",
      "    Uninstalling breeze_connect-1.0.47:\n",
      "      Successfully uninstalled breeze_connect-1.0.47\n",
      "Successfully installed breeze-connect-1.0.53\n",
      "Defaulting to user installation because normal site-packages is not writeable\n",
      "Collecting mplfinance\n",
      "  Downloading mplfinance-0.12.10b0-py3-none-any.whl.metadata (19 kB)\n",
      "Collecting matplotlib (from mplfinance)\n",
      "  Downloading matplotlib-3.8.4-cp312-cp312-win_amd64.whl.metadata (5.9 kB)\n",
      "Requirement already satisfied: pandas in c:\\users\\jigar_tailor\\appdata\\roaming\\python\\python312\\site-packages (from mplfinance) (2.2.2)\n",
      "Collecting contourpy>=1.0.1 (from matplotlib->mplfinance)\n",
      "  Downloading contourpy-1.2.1-cp312-cp312-win_amd64.whl.metadata (5.8 kB)\n",
      "Collecting cycler>=0.10 (from matplotlib->mplfinance)\n",
      "  Downloading cycler-0.12.1-py3-none-any.whl.metadata (3.8 kB)\n",
      "Collecting fonttools>=4.22.0 (from matplotlib->mplfinance)\n",
      "  Downloading fonttools-4.51.0-cp312-cp312-win_amd64.whl.metadata (162 kB)\n",
      "     ---------------------------------------- 0.0/162.8 kB ? eta -:--:--\n",
      "     ------- ------------------------------- 30.7/162.8 kB 1.3 MB/s eta 0:00:01\n",
      "     ---------------------- ---------------- 92.2/162.8 kB 1.1 MB/s eta 0:00:01\n",
      "     ----------------------------------- -- 153.6/162.8 kB 1.1 MB/s eta 0:00:01\n",
      "     ------------------------------------ 162.8/162.8 kB 886.7 kB/s eta 0:00:00\n",
      "Collecting kiwisolver>=1.3.1 (from matplotlib->mplfinance)\n",
      "  Downloading kiwisolver-1.4.5-cp312-cp312-win_amd64.whl.metadata (6.5 kB)\n",
      "Requirement already satisfied: numpy>=1.21 in c:\\program files\\python312\\lib\\site-packages (from matplotlib->mplfinance) (1.26.4)\n",
      "Requirement already satisfied: packaging>=20.0 in c:\\users\\jigar_tailor\\appdata\\roaming\\python\\python312\\site-packages (from matplotlib->mplfinance) (23.2)\n",
      "Collecting pillow>=8 (from matplotlib->mplfinance)\n",
      "  Downloading pillow-10.3.0-cp312-cp312-win_amd64.whl.metadata (9.4 kB)\n",
      "Collecting pyparsing>=2.3.1 (from matplotlib->mplfinance)\n",
      "  Downloading pyparsing-3.1.2-py3-none-any.whl.metadata (5.1 kB)\n",
      "Requirement already satisfied: python-dateutil>=2.7 in c:\\program files\\python312\\lib\\site-packages (from matplotlib->mplfinance) (2.8.2)\n",
      "Requirement already satisfied: pytz>=2020.1 in c:\\program files\\python312\\lib\\site-packages (from pandas->mplfinance) (2024.1)\n",
      "Requirement already satisfied: tzdata>=2022.7 in c:\\program files\\python312\\lib\\site-packages (from pandas->mplfinance) (2024.1)\n",
      "Requirement already satisfied: six>=1.5 in c:\\program files\\python312\\lib\\site-packages (from python-dateutil>=2.7->matplotlib->mplfinance) (1.16.0)\n",
      "Downloading mplfinance-0.12.10b0-py3-none-any.whl (75 kB)\n",
      "   ---------------------------------------- 0.0/75.0 kB ? eta -:--:--\n",
      "   ---------------------------------------- 75.0/75.0 kB 1.4 MB/s eta 0:00:00\n",
      "Downloading matplotlib-3.8.4-cp312-cp312-win_amd64.whl (7.7 MB)\n",
      "   ---------------------------------------- 0.0/7.7 MB ? eta -:--:--\n",
      "    --------------------------------------- 0.1/7.7 MB 6.4 MB/s eta 0:00:02\n",
      "   - -------------------------------------- 0.2/7.7 MB 2.7 MB/s eta 0:00:03\n",
      "   - -------------------------------------- 0.3/7.7 MB 2.5 MB/s eta 0:00:03\n",
      "   -- ------------------------------------- 0.5/7.7 MB 2.7 MB/s eta 0:00:03\n",
      "   --- ------------------------------------ 0.7/7.7 MB 2.6 MB/s eta 0:00:03\n",
      "   ---- ----------------------------------- 0.8/7.7 MB 2.8 MB/s eta 0:00:03\n",
      "   ----- ---------------------------------- 1.0/7.7 MB 2.8 MB/s eta 0:00:03\n",
      "   ----- ---------------------------------- 1.1/7.7 MB 2.7 MB/s eta 0:00:03\n",
      "   ------ --------------------------------- 1.3/7.7 MB 2.7 MB/s eta 0:00:03\n",
      "   ------- -------------------------------- 1.4/7.7 MB 2.8 MB/s eta 0:00:03\n",
      "   -------- ------------------------------- 1.6/7.7 MB 2.7 MB/s eta 0:00:03\n",
      "   -------- ------------------------------- 1.7/7.7 MB 2.7 MB/s eta 0:00:03\n",
      "   --------- ------------------------------ 1.8/7.7 MB 2.6 MB/s eta 0:00:03\n",
      "   --------- ------------------------------ 1.9/7.7 MB 2.6 MB/s eta 0:00:03\n",
      "   ---------- ----------------------------- 2.0/7.7 MB 2.5 MB/s eta 0:00:03\n",
      "   ---------- ----------------------------- 2.0/7.7 MB 2.5 MB/s eta 0:00:03\n",
      "   ---------- ----------------------------- 2.1/7.7 MB 2.3 MB/s eta 0:00:03\n",
      "   ----------- ---------------------------- 2.3/7.7 MB 2.3 MB/s eta 0:00:03\n",
      "   ------------ --------------------------- 2.4/7.7 MB 2.4 MB/s eta 0:00:03\n",
      "   ------------ --------------------------- 2.4/7.7 MB 2.3 MB/s eta 0:00:03\n",
      "   ------------ --------------------------- 2.4/7.7 MB 2.3 MB/s eta 0:00:03\n",
      "   ------------ --------------------------- 2.4/7.7 MB 2.3 MB/s eta 0:00:03\n",
      "   ------------ --------------------------- 2.4/7.7 MB 2.1 MB/s eta 0:00:03\n",
      "   ------------- -------------------------- 2.6/7.7 MB 2.1 MB/s eta 0:00:03\n",
      "   -------------- ------------------------- 2.7/7.7 MB 2.1 MB/s eta 0:00:03\n",
      "   -------------- ------------------------- 2.7/7.7 MB 2.1 MB/s eta 0:00:03\n",
      "   -------------- ------------------------- 2.7/7.7 MB 2.1 MB/s eta 0:00:03\n",
      "   -------------- ------------------------- 2.7/7.7 MB 2.1 MB/s eta 0:00:03\n",
      "   -------------- ------------------------- 2.8/7.7 MB 1.9 MB/s eta 0:00:03\n",
      "   --------------- ------------------------ 2.9/7.7 MB 1.9 MB/s eta 0:00:03\n",
      "   --------------- ------------------------ 3.0/7.7 MB 1.9 MB/s eta 0:00:03\n",
      "   --------------- ------------------------ 3.0/7.7 MB 1.9 MB/s eta 0:00:03\n",
      "   --------------- ------------------------ 3.0/7.7 MB 1.9 MB/s eta 0:00:03\n",
      "   --------------- ------------------------ 3.0/7.7 MB 1.7 MB/s eta 0:00:03\n",
      "   ---------------- ----------------------- 3.1/7.7 MB 1.7 MB/s eta 0:00:03\n",
      "   ---------------- ----------------------- 3.1/7.7 MB 1.7 MB/s eta 0:00:03\n",
      "   ---------------- ----------------------- 3.1/7.7 MB 1.7 MB/s eta 0:00:03\n",
      "   ---------------- ----------------------- 3.2/7.7 MB 1.6 MB/s eta 0:00:03\n",
      "   ----------------- ---------------------- 3.3/7.7 MB 1.6 MB/s eta 0:00:03\n",
      "   ------------------ --------------------- 3.5/7.7 MB 1.6 MB/s eta 0:00:03\n",
      "   ------------------ --------------------- 3.5/7.7 MB 1.6 MB/s eta 0:00:03\n",
      "   ------------------ --------------------- 3.5/7.7 MB 1.6 MB/s eta 0:00:03\n",
      "   ------------------- -------------------- 3.8/7.7 MB 1.6 MB/s eta 0:00:03\n",
      "   -------------------- ------------------- 3.9/7.7 MB 1.6 MB/s eta 0:00:03\n",
      "   -------------------- ------------------- 3.9/7.7 MB 1.6 MB/s eta 0:00:03\n",
      "   -------------------- ------------------- 3.9/7.7 MB 1.6 MB/s eta 0:00:03\n",
      "   -------------------- ------------------- 4.0/7.7 MB 1.5 MB/s eta 0:00:03\n",
      "   --------------------- ------------------ 4.2/7.7 MB 1.6 MB/s eta 0:00:03\n",
      "   ---------------------- ----------------- 4.3/7.7 MB 1.5 MB/s eta 0:00:03\n",
      "   ----------------------- ---------------- 4.4/7.7 MB 1.6 MB/s eta 0:00:03\n",
      "   ----------------------- ---------------- 4.6/7.7 MB 1.6 MB/s eta 0:00:02\n",
      "   ----------------------- ---------------- 4.6/7.7 MB 1.6 MB/s eta 0:00:02\n",
      "   ----------------------- ---------------- 4.6/7.7 MB 1.6 MB/s eta 0:00:02\n",
      "   ----------------------- ---------------- 4.6/7.7 MB 1.6 MB/s eta 0:00:02\n",
      "   ------------------------ --------------- 4.6/7.7 MB 1.5 MB/s eta 0:00:03\n",
      "   ------------------------ --------------- 4.8/7.7 MB 1.5 MB/s eta 0:00:02\n",
      "   ------------------------ --------------- 4.8/7.7 MB 1.5 MB/s eta 0:00:02\n",
      "   ------------------------ --------------- 4.8/7.7 MB 1.5 MB/s eta 0:00:02\n",
      "   ------------------------- -------------- 4.9/7.7 MB 1.5 MB/s eta 0:00:02\n",
      "   -------------------------- ------------- 5.1/7.7 MB 1.5 MB/s eta 0:00:02\n",
      "   -------------------------- ------------- 5.1/7.7 MB 1.5 MB/s eta 0:00:02\n",
      "   -------------------------- ------------- 5.1/7.7 MB 1.5 MB/s eta 0:00:02\n",
      "   -------------------------- ------------- 5.1/7.7 MB 1.5 MB/s eta 0:00:02\n",
      "   -------------------------- ------------- 5.2/7.7 MB 1.4 MB/s eta 0:00:02\n",
      "   --------------------------- ------------ 5.3/7.7 MB 1.4 MB/s eta 0:00:02\n",
      "   --------------------------- ------------ 5.3/7.7 MB 1.4 MB/s eta 0:00:02\n",
      "   --------------------------- ------------ 5.3/7.7 MB 1.4 MB/s eta 0:00:02\n",
      "   --------------------------- ------------ 5.3/7.7 MB 1.4 MB/s eta 0:00:02\n",
      "   --------------------------- ------------ 5.3/7.7 MB 1.4 MB/s eta 0:00:02\n",
      "   ---------------------------- ----------- 5.4/7.7 MB 1.4 MB/s eta 0:00:02\n",
      "   ---------------------------- ----------- 5.5/7.7 MB 1.4 MB/s eta 0:00:02\n",
      "   ----------------------------- ---------- 5.6/7.7 MB 1.4 MB/s eta 0:00:02\n",
      "   ----------------------------- ---------- 5.7/7.7 MB 1.4 MB/s eta 0:00:02\n",
      "   ------------------------------- -------- 6.0/7.7 MB 1.4 MB/s eta 0:00:02\n",
      "   ------------------------------- -------- 6.1/7.7 MB 1.4 MB/s eta 0:00:02\n",
      "   -------------------------------- ------- 6.2/7.7 MB 1.5 MB/s eta 0:00:01\n",
      "   --------------------------------- ------ 6.4/7.7 MB 1.5 MB/s eta 0:00:01\n",
      "   ---------------------------------- ----- 6.6/7.7 MB 1.5 MB/s eta 0:00:01\n",
      "   ----------------------------------- ---- 6.8/7.7 MB 1.5 MB/s eta 0:00:01\n",
      "   ------------------------------------ --- 7.0/7.7 MB 1.5 MB/s eta 0:00:01\n",
      "   ------------------------------------- -- 7.2/7.7 MB 1.6 MB/s eta 0:00:01\n",
      "   -------------------------------------- - 7.4/7.7 MB 1.6 MB/s eta 0:00:01\n",
      "   ---------------------------------------  7.5/7.7 MB 1.6 MB/s eta 0:00:01\n",
      "   ---------------------------------------  7.7/7.7 MB 1.6 MB/s eta 0:00:01\n",
      "   ---------------------------------------  7.7/7.7 MB 1.6 MB/s eta 0:00:01\n",
      "   ---------------------------------------- 7.7/7.7 MB 1.6 MB/s eta 0:00:00\n",
      "Downloading contourpy-1.2.1-cp312-cp312-win_amd64.whl (189 kB)\n",
      "   ---------------------------------------- 0.0/189.9 kB ? eta -:--:--\n",
      "   ------------------------------------- - 184.3/189.9 kB 10.9 MB/s eta 0:00:01\n",
      "   ---------------------------------------- 189.9/189.9 kB 3.8 MB/s eta 0:00:00\n",
      "Downloading cycler-0.12.1-py3-none-any.whl (8.3 kB)\n",
      "Downloading fonttools-4.51.0-cp312-cp312-win_amd64.whl (2.2 MB)\n",
      "   ---------------------------------------- 0.0/2.2 MB ? eta -:--:--\n",
      "   --- ------------------------------------ 0.2/2.2 MB 4.1 MB/s eta 0:00:01\n",
      "   ------- -------------------------------- 0.4/2.2 MB 3.6 MB/s eta 0:00:01\n",
      "   ---------- ----------------------------- 0.6/2.2 MB 3.1 MB/s eta 0:00:01\n",
      "   -------------- ------------------------- 0.8/2.2 MB 3.1 MB/s eta 0:00:01\n",
      "   ------------------ --------------------- 1.0/2.2 MB 3.2 MB/s eta 0:00:01\n",
      "   ------------------- -------------------- 1.1/2.2 MB 3.1 MB/s eta 0:00:01\n",
      "   ----------------------- ---------------- 1.3/2.2 MB 3.1 MB/s eta 0:00:01\n",
      "   -------------------------- ------------- 1.4/2.2 MB 3.2 MB/s eta 0:00:01\n",
      "   ------------------------------ --------- 1.6/2.2 MB 3.1 MB/s eta 0:00:01\n",
      "   ----------------------------------- ---- 2.0/2.2 MB 3.2 MB/s eta 0:00:01\n",
      "   -------------------------------------- - 2.1/2.2 MB 3.2 MB/s eta 0:00:01\n",
      "   ---------------------------------------- 2.2/2.2 MB 3.1 MB/s eta 0:00:00\n",
      "Downloading kiwisolver-1.4.5-cp312-cp312-win_amd64.whl (56 kB)\n",
      "   ---------------------------------------- 0.0/56.0 kB ? eta -:--:--\n",
      "   ---------------------------------------- 56.0/56.0 kB 1.4 MB/s eta 0:00:00\n",
      "Downloading pillow-10.3.0-cp312-cp312-win_amd64.whl (2.5 MB)\n",
      "   ---------------------------------------- 0.0/2.5 MB ? eta -:--:--\n",
      "   --- ------------------------------------ 0.2/2.5 MB 5.9 MB/s eta 0:00:01\n",
      "   ----- ---------------------------------- 0.3/2.5 MB 3.6 MB/s eta 0:00:01\n",
      "   -------- ------------------------------- 0.5/2.5 MB 3.7 MB/s eta 0:00:01\n",
      "   ------------ --------------------------- 0.8/2.5 MB 3.7 MB/s eta 0:00:01\n",
      "   ---------------- ----------------------- 1.0/2.5 MB 3.9 MB/s eta 0:00:01\n",
      "   -------------------- ------------------- 1.3/2.5 MB 3.8 MB/s eta 0:00:01\n",
      "   ----------------------- ---------------- 1.5/2.5 MB 3.7 MB/s eta 0:00:01\n",
      "   -------------------------- ------------- 1.7/2.5 MB 3.7 MB/s eta 0:00:01\n",
      "   ---------------------------- ----------- 1.8/2.5 MB 3.6 MB/s eta 0:00:01\n",
      "   ------------------------------- -------- 2.0/2.5 MB 3.6 MB/s eta 0:00:01\n",
      "   ------------------------------- -------- 2.0/2.5 MB 3.6 MB/s eta 0:00:01\n",
      "   ----------------------------------- ---- 2.2/2.5 MB 3.5 MB/s eta 0:00:01\n",
      "   ------------------------------------- -- 2.4/2.5 MB 3.4 MB/s eta 0:00:01\n",
      "   ---------------------------------------  2.5/2.5 MB 3.5 MB/s eta 0:00:01\n",
      "   ---------------------------------------- 2.5/2.5 MB 3.2 MB/s eta 0:00:00\n",
      "Downloading pyparsing-3.1.2-py3-none-any.whl (103 kB)\n",
      "   ---------------------------------------- 0.0/103.2 kB ? eta -:--:--\n",
      "   ---------------------------------------- 0.0/103.2 kB ? eta -:--:--\n",
      "   ---------------------------------------- 0.0/103.2 kB ? eta -:--:--\n",
      "   ------------------------------- -------- 81.9/103.2 kB 2.3 MB/s eta 0:00:01\n",
      "   ---------------------------------------- 103.2/103.2 kB 1.0 MB/s eta 0:00:00\n",
      "Installing collected packages: pyparsing, pillow, kiwisolver, fonttools, cycler, contourpy, matplotlib, mplfinance\n",
      "Successfully installed contourpy-1.2.1 cycler-0.12.1 fonttools-4.51.0 kiwisolver-1.4.5 matplotlib-3.8.4 mplfinance-0.12.10b0 pillow-10.3.0 pyparsing-3.1.2\n",
      "Defaulting to user installation because normal site-packages is not writeable\n",
      "Requirement already satisfied: matplotlib in c:\\users\\jigar_tailor\\appdata\\roaming\\python\\python312\\site-packages (3.8.4)\n",
      "Requirement already satisfied: contourpy>=1.0.1 in c:\\users\\jigar_tailor\\appdata\\roaming\\python\\python312\\site-packages (from matplotlib) (1.2.1)\n",
      "Requirement already satisfied: cycler>=0.10 in c:\\users\\jigar_tailor\\appdata\\roaming\\python\\python312\\site-packages (from matplotlib) (0.12.1)\n",
      "Requirement already satisfied: fonttools>=4.22.0 in c:\\users\\jigar_tailor\\appdata\\roaming\\python\\python312\\site-packages (from matplotlib) (4.51.0)\n",
      "Requirement already satisfied: kiwisolver>=1.3.1 in c:\\users\\jigar_tailor\\appdata\\roaming\\python\\python312\\site-packages (from matplotlib) (1.4.5)\n",
      "Requirement already satisfied: numpy>=1.21 in c:\\program files\\python312\\lib\\site-packages (from matplotlib) (1.26.4)\n",
      "Requirement already satisfied: packaging>=20.0 in c:\\users\\jigar_tailor\\appdata\\roaming\\python\\python312\\site-packages (from matplotlib) (23.2)\n",
      "Requirement already satisfied: pillow>=8 in c:\\users\\jigar_tailor\\appdata\\roaming\\python\\python312\\site-packages (from matplotlib) (10.3.0)\n",
      "Requirement already satisfied: pyparsing>=2.3.1 in c:\\users\\jigar_tailor\\appdata\\roaming\\python\\python312\\site-packages (from matplotlib) (3.1.2)\n",
      "Requirement already satisfied: python-dateutil>=2.7 in c:\\program files\\python312\\lib\\site-packages (from matplotlib) (2.8.2)\n",
      "Requirement already satisfied: six>=1.5 in c:\\program files\\python312\\lib\\site-packages (from python-dateutil>=2.7->matplotlib) (1.16.0)\n",
      "Defaulting to user installation because normal site-packages is not writeable\n",
      "Requirement already satisfied: pandas in c:\\users\\jigar_tailor\\appdata\\roaming\\python\\python312\\site-packages (2.2.2)\n",
      "Requirement already satisfied: numpy>=1.26.0 in c:\\program files\\python312\\lib\\site-packages (from pandas) (1.26.4)\n",
      "Requirement already satisfied: python-dateutil>=2.8.2 in c:\\program files\\python312\\lib\\site-packages (from pandas) (2.8.2)\n",
      "Requirement already satisfied: pytz>=2020.1 in c:\\program files\\python312\\lib\\site-packages (from pandas) (2024.1)\n",
      "Requirement already satisfied: tzdata>=2022.7 in c:\\program files\\python312\\lib\\site-packages (from pandas) (2024.1)\n",
      "Requirement already satisfied: six>=1.5 in c:\\program files\\python312\\lib\\site-packages (from python-dateutil>=2.8.2->pandas) (1.16.0)\n"
     ]
    }
   ],
   "source": [
    "! pip install --upgrade breeze-connect\n",
    "! pip install --upgrade mplfinance\n",
    "! pip install --upgrade matplotlib\n",
    "! pip install --upgrade pandas\n"
   ]
  },
  {
   "cell_type": "code",
   "execution_count": 3,
   "metadata": {},
   "outputs": [
    {
     "name": "stdout",
     "output_type": "stream",
     "text": [
      "Defaulting to user installation because normal site-packages is not writeable\n",
      "Collecting talipp\n",
      "  Downloading talipp-2.2.1-py3-none-any.whl.metadata (9.8 kB)\n",
      "Downloading talipp-2.2.1-py3-none-any.whl (59 kB)\n",
      "   ---------------------------------------- 0.0/59.7 kB ? eta -:--:--\n",
      "   -------------------- ------------------- 30.7/59.7 kB 1.4 MB/s eta 0:00:01\n",
      "   ---------------------------------- ----- 51.2/59.7 kB 660.6 kB/s eta 0:00:01\n",
      "   ---------------------------------------- 59.7/59.7 kB 531.5 kB/s eta 0:00:00\n",
      "Installing collected packages: talipp\n",
      "Successfully installed talipp-2.2.1\n"
     ]
    }
   ],
   "source": [
    "! pip install --upgrade talipp\n"
   ]
  },
  {
   "cell_type": "markdown",
   "metadata": {},
   "source": [
    "## Import required packages"
   ]
  },
  {
   "cell_type": "code",
   "execution_count": 4,
   "metadata": {},
   "outputs": [],
   "source": [
    "from breeze_connect import BreezeConnect\n",
    "from datetime import datetime\n",
    "import urllib\n",
    "import numpy as np\n",
    "import pandas as pd\n",
    "\n",
    "\n",
    "import mplfinance as mpf\n",
    "import matplotlib.pyplot as plt"
   ]
  },
  {
   "cell_type": "markdown",
   "metadata": {},
   "source": [
    "## Variables for initial setup"
   ]
  },
  {
   "cell_type": "code",
   "execution_count": 5,
   "metadata": {},
   "outputs": [],
   "source": [
    "Api_key=\"^42y6975650632#94258t282@r718`77\"\n",
    "Api_Secret=\"i0td81HE339202156w96102D98497633\""
   ]
  },
  {
   "cell_type": "markdown",
   "metadata": {},
   "source": [
    "## Get Link to generate session key"
   ]
  },
  {
   "cell_type": "code",
   "execution_count": 6,
   "metadata": {},
   "outputs": [
    {
     "name": "stdout",
     "output_type": "stream",
     "text": [
      "https://api.icicidirect.com/apiuser/login?api_key=%5E42y6975650632%2394258t282%40r718%6077\n"
     ]
    }
   ],
   "source": [
    "print(\"https://api.icicidirect.com/apiuser/login?api_key=\"+urllib.parse.quote_plus(Api_key))"
   ]
  },
  {
   "cell_type": "markdown",
   "metadata": {},
   "source": [
    "## Declare Session key variable"
   ]
  },
  {
   "cell_type": "code",
   "execution_count": null,
   "metadata": {},
   "outputs": [],
   "source": [
    "Api_Session=\"39245717\""
   ]
  },
  {
   "cell_type": "markdown",
   "metadata": {},
   "source": [
    "## Initialize SDK"
   ]
  },
  {
   "cell_type": "code",
   "execution_count": null,
   "metadata": {},
   "outputs": [],
   "source": [
    "breeze = BreezeConnect(api_key=Api_key)"
   ]
  },
  {
   "cell_type": "markdown",
   "metadata": {},
   "source": [
    "## Generate Session"
   ]
  },
  {
   "cell_type": "code",
   "execution_count": null,
   "metadata": {},
   "outputs": [],
   "source": [
    "breeze.generate_session(api_secret=Api_Secret,\n",
    "                        session_token=Api_Session)\n"
   ]
  },
  {
   "cell_type": "markdown",
   "metadata": {},
   "source": [
    "## Indicator process"
   ]
  },
  {
   "cell_type": "code",
   "execution_count": null,
   "metadata": {},
   "outputs": [],
   "source": [
    "data=breeze.get_historical_data_v2(interval=\"1day\",\n",
    "                            from_date= \"2023-12-01T07:00:00.000Z\",\n",
    "                            to_date= \"2024-04-22T07:00:00.000Z\",\n",
    "                            stock_code=\"NIFTY\",\n",
    "                            exchange_code=\"NSE\",\n",
    "                            product_type=\"cash\",\n",
    "                            expiry_date=\"2022-08-25T07:00:00.000Z\",\n",
    "                            right=\"others\",\n",
    "                            strike_price=\"0\")[\"Success\"]"
   ]
  },
  {
   "cell_type": "code",
   "execution_count": null,
   "metadata": {},
   "outputs": [],
   "source": [
    "data"
   ]
  },
  {
   "cell_type": "code",
   "execution_count": null,
   "metadata": {},
   "outputs": [],
   "source": [
    "df=pd.DataFrame(data)\n",
    "df"
   ]
  },
  {
   "cell_type": "code",
   "execution_count": null,
   "metadata": {},
   "outputs": [],
   "source": [
    "df.set_index(\"datetime\")\n",
    "df.drop(['exchange_code','stock_code','volume'],axis=1, inplace=True)\n",
    "df.tail()"
   ]
  },
  {
   "cell_type": "code",
   "execution_count": null,
   "metadata": {},
   "outputs": [],
   "source": [
    "df.index=pd.to_datetime(df.index)\n",
    "\n",
    "mpf.plot(df,type='candle',style='charles',volume=False)"
   ]
  },
  {
   "cell_type": "code",
   "execution_count": null,
   "metadata": {},
   "outputs": [],
   "source": [
    "# SMA\n",
    "lookback_period=10\n",
    "df['sma']=df['close'].rolling(lookback_period).mean()"
   ]
  },
  {
   "cell_type": "code",
   "execution_count": null,
   "metadata": {},
   "outputs": [],
   "source": [
    "df.head(20)"
   ]
  },
  {
   "cell_type": "code",
   "execution_count": null,
   "metadata": {},
   "outputs": [],
   "source": [
    "pip install --upgrade pandas_ta"
   ]
  },
  {
   "cell_type": "code",
   "execution_count": null,
   "metadata": {},
   "outputs": [],
   "source": [
    "import pandas_ta as ta\n"
   ]
  },
  {
   "cell_type": "code",
   "execution_count": null,
   "metadata": {},
   "outputs": [],
   "source": [
    "df['sma']=ta.sma(df['close'], length=10)\n",
    "df.head(20)"
   ]
  },
  {
   "cell_type": "code",
   "execution_count": null,
   "metadata": {},
   "outputs": [],
   "source": [
    "# Calculate EMA\n",
    "df['ema']=df['close'].ewm(span=9).mean()\n",
    "df.head(20)"
   ]
  },
  {
   "cell_type": "code",
   "execution_count": null,
   "metadata": {},
   "outputs": [],
   "source": [
    "df.index=pd.to_datetime(df.index)\n",
    "\n",
    "ema_plot=mpf.make_addplot(df['ema'],color='b')\n",
    "sma_plot=mpf.make_addplot(df['sma'],color='g')\n",
    "\n",
    "mpf.plot(df,type='candle', style='charles',volume=False, addplot=[ema_plot,sma_plot])"
   ]
  },
  {
   "cell_type": "code",
   "execution_count": null,
   "metadata": {},
   "outputs": [],
   "source": [
    "# Plot close price along with EMA and SMA\n",
    "plt.figure(figsize=(14,7))\n",
    "plt.plot(df['close'], label='Close_price', color='blue')\n",
    "\n",
    "plt.plot(df['ema'],label='EMA', color='red', linestyle='--')\n",
    "plt.plot(df['sma'],label='SMA', color='green', linestyle='--')\n",
    "\n",
    "plt.title('Close Price with EMA and SMA')\n",
    "plt.xlabel('Date')\n",
    "plt.ylabel('Price')\n",
    "plt.legend()\n",
    "plt.show()\n"
   ]
  },
  {
   "cell_type": "code",
   "execution_count": null,
   "metadata": {},
   "outputs": [],
   "source": [
    "df['ema_26']=df['close'].ewm(span=26).mean()"
   ]
  },
  {
   "cell_type": "code",
   "execution_count": null,
   "metadata": {},
   "outputs": [],
   "source": [
    "# demo strategy, if ema_9 crosses up ema_26, buy\n",
    "# else if ema_9 crosses down ema_26, sell"
   ]
  },
  {
   "cell_type": "code",
   "execution_count": null,
   "metadata": {},
   "outputs": [],
   "source": [
    "# Plot close price along with EMA and SMA\n",
    "plt.figure(figsize=(14,7))\n",
    "plt.plot(df['close'], label='Close_price', color='blue')\n",
    "\n",
    "plt.plot(df['ema'],label='EMA 9', color='red', linestyle='--')\n",
    "plt.plot(df['ema_26'], label='EMA 26',color='green', linestyle='--')\n",
    "\n",
    "plt.title('Close Price with EMA and SMA')\n",
    "plt.xlabel('Date')\n",
    "plt.ylabel('Price')\n",
    "plt.legend()\n",
    "plt.show()\n"
   ]
  }
 ],
 "metadata": {
  "kernelspec": {
   "display_name": "Python 3",
   "language": "python",
   "name": "python3"
  },
  "language_info": {
   "codemirror_mode": {
    "name": "ipython",
    "version": 3
   },
   "file_extension": ".py",
   "mimetype": "text/x-python",
   "name": "python",
   "nbconvert_exporter": "python",
   "pygments_lexer": "ipython3",
   "version": "3.12.0"
  }
 },
 "nbformat": 4,
 "nbformat_minor": 2
}
