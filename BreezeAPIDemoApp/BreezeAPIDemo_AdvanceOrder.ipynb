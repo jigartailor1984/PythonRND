{
 "cells": [
  {
   "cell_type": "markdown",
   "metadata": {},
   "source": [
    "# BreezeAPI Options Strategy"
   ]
  },
  {
   "cell_type": "markdown",
   "metadata": {},
   "source": [
    "## Install BreezeAPI package"
   ]
  },
  {
   "cell_type": "code",
   "execution_count": 1,
   "metadata": {},
   "outputs": [
    {
     "name": "stdout",
     "output_type": "stream",
     "text": [
      "Requirement already satisfied: breeze-connect in c:\\users\\jigar\\appdata\\local\\packages\\pythonsoftwarefoundation.python.3.10_qbz5n2kfra8p0\\localcache\\local-packages\\python310\\site-packages (1.0.53)\n",
      "Requirement already satisfied: python-socketio[client] in c:\\users\\jigar\\appdata\\local\\packages\\pythonsoftwarefoundation.python.3.10_qbz5n2kfra8p0\\localcache\\local-packages\\python310\\site-packages (from breeze-connect) (5.10.0)\n",
      "Requirement already satisfied: requests in c:\\users\\jigar\\appdata\\local\\packages\\pythonsoftwarefoundation.python.3.10_qbz5n2kfra8p0\\localcache\\local-packages\\python310\\site-packages (from breeze-connect) (2.31.0)\n",
      "Requirement already satisfied: pandas in c:\\users\\jigar\\appdata\\local\\packages\\pythonsoftwarefoundation.python.3.10_qbz5n2kfra8p0\\localcache\\local-packages\\python310\\site-packages (from breeze-connect) (2.1.3)\n",
      "Requirement already satisfied: pytz>=2020.1 in c:\\users\\jigar\\appdata\\local\\packages\\pythonsoftwarefoundation.python.3.10_qbz5n2kfra8p0\\localcache\\local-packages\\python310\\site-packages (from pandas->breeze-connect) (2024.1)\n",
      "Requirement already satisfied: tzdata>=2022.1 in c:\\users\\jigar\\appdata\\local\\packages\\pythonsoftwarefoundation.python.3.10_qbz5n2kfra8p0\\localcache\\local-packages\\python310\\site-packages (from pandas->breeze-connect) (2023.3)\n",
      "Requirement already satisfied: numpy<2,>=1.22.4 in c:\\users\\jigar\\appdata\\local\\packages\\pythonsoftwarefoundation.python.3.10_qbz5n2kfra8p0\\localcache\\local-packages\\python310\\site-packages (from pandas->breeze-connect) (1.26.2)\n",
      "Requirement already satisfied: python-dateutil>=2.8.2 in c:\\users\\jigar\\appdata\\local\\packages\\pythonsoftwarefoundation.python.3.10_qbz5n2kfra8p0\\localcache\\local-packages\\python310\\site-packages (from pandas->breeze-connect) (2.8.2)\n",
      "Requirement already satisfied: bidict>=0.21.0 in c:\\users\\jigar\\appdata\\local\\packages\\pythonsoftwarefoundation.python.3.10_qbz5n2kfra8p0\\localcache\\local-packages\\python310\\site-packages (from python-socketio[client]->breeze-connect) (0.22.1)\n",
      "Requirement already satisfied: python-engineio>=4.8.0 in c:\\users\\jigar\\appdata\\local\\packages\\pythonsoftwarefoundation.python.3.10_qbz5n2kfra8p0\\localcache\\local-packages\\python310\\site-packages (from python-socketio[client]->breeze-connect) (4.8.0)\n",
      "Requirement already satisfied: websocket-client>=0.54.0 in c:\\users\\jigar\\appdata\\local\\packages\\pythonsoftwarefoundation.python.3.10_qbz5n2kfra8p0\\localcache\\local-packages\\python310\\site-packages (from python-socketio[client]->breeze-connect) (1.6.4)\n",
      "Requirement already satisfied: certifi>=2017.4.17 in c:\\users\\jigar\\appdata\\local\\packages\\pythonsoftwarefoundation.python.3.10_qbz5n2kfra8p0\\localcache\\local-packages\\python310\\site-packages (from requests->breeze-connect) (2023.11.17)\n",
      "Requirement already satisfied: idna<4,>=2.5 in c:\\users\\jigar\\appdata\\local\\packages\\pythonsoftwarefoundation.python.3.10_qbz5n2kfra8p0\\localcache\\local-packages\\python310\\site-packages (from requests->breeze-connect) (3.6)\n",
      "Requirement already satisfied: urllib3<3,>=1.21.1 in c:\\users\\jigar\\appdata\\local\\packages\\pythonsoftwarefoundation.python.3.10_qbz5n2kfra8p0\\localcache\\local-packages\\python310\\site-packages (from requests->breeze-connect) (2.1.0)\n",
      "Requirement already satisfied: charset-normalizer<4,>=2 in c:\\users\\jigar\\appdata\\local\\packages\\pythonsoftwarefoundation.python.3.10_qbz5n2kfra8p0\\localcache\\local-packages\\python310\\site-packages (from requests->breeze-connect) (3.3.2)\n",
      "Requirement already satisfied: six>=1.5 in c:\\users\\jigar\\appdata\\local\\packages\\pythonsoftwarefoundation.python.3.10_qbz5n2kfra8p0\\localcache\\local-packages\\python310\\site-packages (from python-dateutil>=2.8.2->pandas->breeze-connect) (1.16.0)\n",
      "Requirement already satisfied: simple-websocket>=0.10.0 in c:\\users\\jigar\\appdata\\local\\packages\\pythonsoftwarefoundation.python.3.10_qbz5n2kfra8p0\\localcache\\local-packages\\python310\\site-packages (from python-engineio>=4.8.0->python-socketio[client]->breeze-connect) (1.0.0)\n",
      "Requirement already satisfied: wsproto in c:\\users\\jigar\\appdata\\local\\packages\\pythonsoftwarefoundation.python.3.10_qbz5n2kfra8p0\\localcache\\local-packages\\python310\\site-packages (from simple-websocket>=0.10.0->python-engineio>=4.8.0->python-socketio[client]->breeze-connect) (1.2.0)\n",
      "Requirement already satisfied: h11<1,>=0.9.0 in c:\\users\\jigar\\appdata\\local\\packages\\pythonsoftwarefoundation.python.3.10_qbz5n2kfra8p0\\localcache\\local-packages\\python310\\site-packages (from wsproto->simple-websocket>=0.10.0->python-engineio>=4.8.0->python-socketio[client]->breeze-connect) (0.14.0)\n",
      "Note: you may need to restart the kernel to use updated packages.\n"
     ]
    },
    {
     "name": "stderr",
     "output_type": "stream",
     "text": [
      "\n",
      "[notice] A new release of pip is available: 23.0.1 -> 24.0\n",
      "[notice] To update, run: C:\\Users\\jigar\\AppData\\Local\\Microsoft\\WindowsApps\\PythonSoftwareFoundation.Python.3.10_qbz5n2kfra8p0\\python.exe -m pip install --upgrade pip\n"
     ]
    }
   ],
   "source": [
    "pip install --upgrade breeze-connect"
   ]
  },
  {
   "cell_type": "markdown",
   "metadata": {},
   "source": [
    "## Import required packages"
   ]
  },
  {
   "cell_type": "code",
   "execution_count": 2,
   "metadata": {},
   "outputs": [],
   "source": [
    "from breeze_connect import BreezeConnect\n",
    "from datetime import datetime\n",
    "import urllib\n"
   ]
  },
  {
   "cell_type": "markdown",
   "metadata": {},
   "source": [
    "## Variables for initial setup"
   ]
  },
  {
   "cell_type": "code",
   "execution_count": 3,
   "metadata": {},
   "outputs": [],
   "source": [
    "Api_key=\"^42y6975650632#94258t282@r718`77\"\n",
    "Api_Secret=\"i0td81HE339202156w96102D98497633\""
   ]
  },
  {
   "cell_type": "markdown",
   "metadata": {},
   "source": [
    "## Get Link to generate session key"
   ]
  },
  {
   "cell_type": "code",
   "execution_count": 4,
   "metadata": {},
   "outputs": [
    {
     "name": "stdout",
     "output_type": "stream",
     "text": [
      "https://api.icicidirect.com/apiuser/login?api_key=%5E42y6975650632%2394258t282%40r718%6077\n"
     ]
    }
   ],
   "source": [
    "print(\"https://api.icicidirect.com/apiuser/login?api_key=\"+urllib.parse.quote_plus(Api_key))"
   ]
  },
  {
   "cell_type": "markdown",
   "metadata": {},
   "source": [
    "## Declare Session key variable"
   ]
  },
  {
   "cell_type": "code",
   "execution_count": 5,
   "metadata": {},
   "outputs": [],
   "source": [
    "Api_Session=\"39239336\""
   ]
  },
  {
   "cell_type": "markdown",
   "metadata": {},
   "source": [
    "## Initialize SDK"
   ]
  },
  {
   "cell_type": "code",
   "execution_count": 6,
   "metadata": {},
   "outputs": [],
   "source": [
    "breeze = BreezeConnect(api_key=Api_key)"
   ]
  },
  {
   "cell_type": "markdown",
   "metadata": {},
   "source": [
    "## Generate Session"
   ]
  },
  {
   "cell_type": "code",
   "execution_count": 7,
   "metadata": {},
   "outputs": [],
   "source": [
    "breeze.generate_session(api_secret=Api_Secret,\n",
    "                        session_token=Api_Session)\n"
   ]
  },
  {
   "cell_type": "code",
   "execution_count": 11,
   "metadata": {},
   "outputs": [
    {
     "data": {
      "text/plain": [
       "[{'exchange_code': 'NSE',\n",
       "  'product_type': '',\n",
       "  'stock_code': 'NIFTY',\n",
       "  'expiry_date': None,\n",
       "  'right': None,\n",
       "  'strike_price': 0.0,\n",
       "  'ltp': 22336.4,\n",
       "  'ltt': '22-Apr-2024 16:42:58',\n",
       "  'best_bid_price': 0.0,\n",
       "  'best_bid_quantity': '0',\n",
       "  'best_offer_price': 0.0,\n",
       "  'best_offer_quantity': '0',\n",
       "  'open': 22336.9,\n",
       "  'high': 22375.65,\n",
       "  'low': 22198.15,\n",
       "  'previous_close': 22147.0,\n",
       "  'ltp_percent_change': 0.855194834514833,\n",
       "  'upper_circuit': 0.0,\n",
       "  'lower_circuit': 0.0,\n",
       "  'total_quantity_traded': '0',\n",
       "  'spot_price': None},\n",
       " {'exchange_code': 'NA',\n",
       "  'product_type': '',\n",
       "  'stock_code': 'NIFTY',\n",
       "  'expiry_date': None,\n",
       "  'right': None,\n",
       "  'strike_price': 0.0,\n",
       "  'ltp': 0.0,\n",
       "  'ltt': 'NA',\n",
       "  'best_bid_price': 0.0,\n",
       "  'best_bid_quantity': '0',\n",
       "  'best_offer_price': 0.0,\n",
       "  'best_offer_quantity': '0',\n",
       "  'open': 0.0,\n",
       "  'high': 0.0,\n",
       "  'low': 0.0,\n",
       "  'previous_close': 0.0,\n",
       "  'ltp_percent_change': 0.0,\n",
       "  'upper_circuit': 0.0,\n",
       "  'lower_circuit': 0.0,\n",
       "  'total_quantity_traded': '0',\n",
       "  'spot_price': None}]"
      ]
     },
     "execution_count": 11,
     "metadata": {},
     "output_type": "execute_result"
    }
   ],
   "source": [
    "data=breeze.get_quotes(stock_code=\"NIFTY\",\n",
    "                    exchange_code=\"NSE\",\n",
    "                    product_type=\"cash\")['Success']\n",
    "data"
   ]
  },
  {
   "cell_type": "code",
   "execution_count": null,
   "metadata": {},
   "outputs": [],
   "source": [
    "breeze.place_order(stock_code=\"NIFTY\",\n",
    "                    exchange_code=\"NFO\",\n",
    "                    product=\"options\",\n",
    "                    action=\"buy\",\n",
    "                    order_type=\"market\",\n",
    "                    stoploss=\"\",\n",
    "                    quantity=\"50\",\n",
    "                    price=\"\",\n",
    "                    validity=\"day\",\n",
    "                    validity_date=\"2024-04-23T06:00:00.000Z\",\n",
    "                    disclosed_quantity=\"0\",\n",
    "                    expiry_date=\"2024-04-25T06:00:00.000Z\",\n",
    "                    right=\"call\",\n",
    "                    strike_price=\"22400\")"
   ]
  },
  {
   "cell_type": "code",
   "execution_count": null,
   "metadata": {},
   "outputs": [],
   "source": [
    "breeze.square_off(exchange_code=\"NFO\",\n",
    "                    product=\"options\",\n",
    "                    stock_code=\"NIFTY\",\n",
    "                    expiry_date=\"2024-04-25T06:00:00.000Z\",\n",
    "                    right=\"Call\",\n",
    "                    strike_price=\"22400\",\n",
    "                    action=\"sell\",\n",
    "                    order_type=\"market\",\n",
    "                    validity=\"day\",\n",
    "                    stoploss=\"0\",\n",
    "                    quantity=\"50\",\n",
    "                    price=\"0\",\n",
    "                    validity_date=\"2024-04-23T06:00:00.000Z\",\n",
    "                    trade_password=\"\",\n",
    "                    disclosed_quantity=\"0\")"
   ]
  }
 ],
 "metadata": {
  "kernelspec": {
   "display_name": "Python 3",
   "language": "python",
   "name": "python3"
  },
  "language_info": {
   "codemirror_mode": {
    "name": "ipython",
    "version": 3
   },
   "file_extension": ".py",
   "mimetype": "text/x-python",
   "name": "python",
   "nbconvert_exporter": "python",
   "pygments_lexer": "ipython3",
   "version": "3.10.11"
  }
 },
 "nbformat": 4,
 "nbformat_minor": 2
}
