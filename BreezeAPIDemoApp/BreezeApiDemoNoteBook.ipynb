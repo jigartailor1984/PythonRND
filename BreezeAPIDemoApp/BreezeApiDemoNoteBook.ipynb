{
  "cells": [
    {
      "cell_type": "markdown",
      "metadata": {
        "id": "spsWxglaYgf9"
      },
      "source": [
        "# Breeze API Demo"
      ]
    },
    {
      "cell_type": "markdown",
      "metadata": {
        "id": "-dkxmPo6YggA"
      },
      "source": [
        "## Instrument Update"
      ]
    },
    {
      "cell_type": "markdown",
      "metadata": {
        "id": "2zNmVmcIYggB"
      },
      "source": [
        "### Download security master"
      ]
    },
    {
      "cell_type": "code",
      "execution_count": null,
      "metadata": {
        "colab": {
          "base_uri": "https://localhost:8080/"
        },
        "id": "V0AnSz9PYggB",
        "outputId": "8491819e-8744-4fb9-d5c8-db0d6055c9be"
      },
      "outputs": [],
      "source": [
        "pip install wget"
      ]
    },
    {
      "cell_type": "code",
      "execution_count": null,
      "metadata": {
        "id": "y5EfRjTeYggC"
      },
      "outputs": [],
      "source": [
        "import os\n",
        "def delete_directory(directory_path):\n",
        "  try:\n",
        "    if os.path.exists(directory_path):\n",
        "      files = os.listdir(directory_path)\n",
        "      for file in files:\n",
        "        file_path = os.path.join(directory_path, file)\n",
        "        if os.path.isfile(file_path):\n",
        "          os.remove(file_path)\n",
        "      os.rmdir(directory_path)\n",
        "      print(\"All files deleted successfully.\")\n",
        "    else:\n",
        "      print(\"Directory not found\")\n",
        "\n",
        "  except OSError:\n",
        "     print(\"Error occurred while deleting files.\")"
      ]
    },
    {
      "cell_type": "code",
      "execution_count": null,
      "metadata": {
        "id": "mn28IBxxfq9b"
      },
      "outputs": [],
      "source": [
        "def splitAndTrim_string(textString, delimiter):\n",
        "\n",
        "    # Split the string based on space delimiter\n",
        "    list_string = [str.strip() for str in textString.split(delimiter)]\n",
        "\n",
        "    return list_string\n",
        "\n",
        "def join_string(list_string,delimiter):\n",
        "\n",
        "    # Join the string based on '-' delimiter\n",
        "    textString = delimiter.join(list_string)\n",
        "\n",
        "    return textString"
      ]
    },
    {
      "cell_type": "code",
      "execution_count": null,
      "metadata": {
        "id": "rUEKE_1Mdj6D"
      },
      "outputs": [],
      "source": [
        "def RemoveSpaceFromCSVFileHeader(filename):\n",
        "  try:\n",
        "    if os.path.exists(filename):\n",
        "      csvReadFile=open(filename,\"r\")\n",
        "      content=csvReadFile.readlines()\n",
        "      csvReadFile.close()\n",
        "      firstLine=content[0]\n",
        "      delimiter=','\n",
        "      content[0]=join_string(splitAndTrim_string(firstLine,delimiter),delimiter)\n",
        "      csvWriteFile=open(filename,\"w\")\n",
        "      csvWriteFile.writelines(content)\n",
        "      print(\"File '\"+filename+\"' processed successfully.\")\n",
        "    else:\n",
        "      print(\"File '\"+filename+\"' not found.\")\n",
        "  except OSError:\n",
        "    print(\"Error occurred while reading file.\")"
      ]
    },
    {
      "cell_type": "code",
      "execution_count": null,
      "metadata": {
        "id": "LmCsd1WcYggD"
      },
      "outputs": [],
      "source": [
        "instrumentDownloadUrl=\"https://directlink.icicidirect.com/NewSecurityMaster/SecurityMaster.zip\"\n",
        "instrumentSecurityMasterDir=\"instruments/SecurityMaster\"\n",
        "BSEScripMastercsv=\"instruments/SecurityMaster/BSEScripMaster.txt\"\n",
        "CDNSEScripMastercsv=\"instruments/SecurityMaster/CDNSEScripMaster.txt\"\n",
        "FONSEScripMastercsv=\"instruments/SecurityMaster/FONSEScripMaster.txt\"\n",
        "NSEScripMastercsv=\"instruments/SecurityMaster/NSEScripMaster.txt\"\n",
        "instrumentSecurityMasterZip=\"instruments/SecurityMaster.zip\""
      ]
    },
    {
      "cell_type": "code",
      "execution_count": null,
      "metadata": {
        "id": "Z7hTnHWFYggD"
      },
      "outputs": [],
      "source": [
        "delete_directory(instrumentSecurityMasterDir)\n",
        "delete_directory(\"instruments\")\n",
        "os.mkdir(\"instruments\")"
      ]
    },
    {
      "cell_type": "code",
      "execution_count": null,
      "metadata": {
        "colab": {
          "base_uri": "https://localhost:8080/",
          "height": 52
        },
        "id": "4uUfjeAEYggD",
        "outputId": "d32130ce-4ac9-4ab4-b321-a0abe00de922"
      },
      "outputs": [],
      "source": [
        "import wget\n",
        "\n",
        "\n",
        "if os.path.exists(instrumentSecurityMasterZip):\n",
        "    os.remove(instrumentSecurityMasterZip)\n",
        "\n",
        "wget.download(instrumentDownloadUrl, instrumentSecurityMasterZip)\n"
      ]
    },
    {
      "cell_type": "markdown",
      "metadata": {
        "id": "g5QG-Iv9YggD"
      },
      "source": [
        "### Extract SecurityMaster"
      ]
    },
    {
      "cell_type": "code",
      "execution_count": null,
      "metadata": {
        "id": "pOgOnWC0YggE"
      },
      "outputs": [],
      "source": [
        "\n",
        "from zipfile import ZipFile\n",
        "if os.path.exists(instrumentSecurityMasterZip):\n",
        "\n",
        "    with ZipFile(instrumentSecurityMasterZip, 'r') as zObject:\n",
        "        zObject.extractall(path=instrumentSecurityMasterDir)\n",
        "\n",
        "    os.remove(instrumentSecurityMasterZip)\n",
        "else:\n",
        "    print(\"The file does not exist.\")"
      ]
    },
    {
      "cell_type": "code",
      "execution_count": null,
      "metadata": {
        "colab": {
          "base_uri": "https://localhost:8080/"
        },
        "id": "WEN1MZTQjSXy",
        "outputId": "717c12de-c71f-4670-96c1-592ae4108a27"
      },
      "outputs": [],
      "source": [
        "RemoveSpaceFromCSVFileHeader(BSEScripMastercsv)\n",
        "RemoveSpaceFromCSVFileHeader(CDNSEScripMastercsv)\n",
        "RemoveSpaceFromCSVFileHeader(FONSEScripMastercsv)\n",
        "RemoveSpaceFromCSVFileHeader(NSEScripMastercsv)"
      ]
    },
    {
      "cell_type": "markdown",
      "metadata": {
        "id": "tGylPbPoYggE"
      },
      "source": [
        "### Installing Pandas"
      ]
    },
    {
      "cell_type": "code",
      "execution_count": null,
      "metadata": {
        "colab": {
          "base_uri": "https://localhost:8080/"
        },
        "id": "jkvb3AImYggE",
        "outputId": "ec387cb0-ef0f-4e1e-9309-01bf7b3bd064"
      },
      "outputs": [],
      "source": [
        "pip install pandas"
      ]
    },
    {
      "cell_type": "code",
      "execution_count": null,
      "metadata": {
        "id": "mjeumqFqYggE"
      },
      "outputs": [],
      "source": [
        "import pandas as pd"
      ]
    },
    {
      "cell_type": "markdown",
      "metadata": {
        "id": "dls0osZvYggE"
      },
      "source": [
        "### Reading BSE Scrip Master"
      ]
    },
    {
      "cell_type": "code",
      "execution_count": null,
      "metadata": {
        "id": "79to0-YgYggE"
      },
      "outputs": [],
      "source": [
        "BSEScripMasterDf=pd.read_csv(BSEScripMastercsv)"
      ]
    },
    {
      "cell_type": "code",
      "execution_count": null,
      "metadata": {
        "colab": {
          "base_uri": "https://localhost:8080/"
        },
        "id": "6UOqpxlmYggE",
        "outputId": "0f0da25d-2621-4ab6-f8aa-ef4dd4cd2d43"
      },
      "outputs": [],
      "source": [
        "print(BSEScripMasterDf.to_string())"
      ]
    },
    {
      "cell_type": "code",
      "execution_count": null,
      "metadata": {
        "colab": {
          "base_uri": "https://localhost:8080/",
          "height": 164
        },
        "id": "hTmhiIL-YggF",
        "outputId": "2c164167-3e1f-4618-c841-127df7031716"
      },
      "outputs": [],
      "source": [
        "BSEScripMasterDf[BSEScripMasterDf[\"ShortName\"]==\"PERSYS\"]"
      ]
    },
    {
      "cell_type": "markdown",
      "metadata": {
        "id": "UK02lpq8YggF"
      },
      "source": [
        "### Reading CDNSE Scrip master"
      ]
    },
    {
      "cell_type": "code",
      "execution_count": null,
      "metadata": {
        "id": "TxnBdvRpYggF"
      },
      "outputs": [],
      "source": [
        "CDNSEScripMasterDf=pd.read_csv(CDNSEScripMastercsv)"
      ]
    },
    {
      "cell_type": "code",
      "execution_count": null,
      "metadata": {
        "colab": {
          "base_uri": "https://localhost:8080/"
        },
        "id": "F3XG2wBPYggF",
        "outputId": "8c6f4d65-4daf-4d3c-c8d6-ff8c5db9488f"
      },
      "outputs": [],
      "source": [
        "print(CDNSEScripMasterDf.to_string())"
      ]
    },
    {
      "cell_type": "code",
      "execution_count": null,
      "metadata": {
        "colab": {
          "base_uri": "https://localhost:8080/",
          "height": 617
        },
        "id": "JzO-fjUtYggF",
        "outputId": "8adba8e5-232b-4a09-b405-d7c0af9fa15f"
      },
      "outputs": [],
      "source": [
        "CDNSEScripMasterDf[CDNSEScripMasterDf[\"ShortName\"]==\"USDINR\"]"
      ]
    },
    {
      "cell_type": "markdown",
      "metadata": {
        "id": "W-ZFR6MqYggF"
      },
      "source": [
        "### Reading FONSE Scrip master"
      ]
    },
    {
      "cell_type": "code",
      "execution_count": null,
      "metadata": {
        "id": "xGKDYW94YggF"
      },
      "outputs": [],
      "source": [
        "FONSEScripMasterDF=pd.read_csv(FONSEScripMastercsv)"
      ]
    },
    {
      "cell_type": "code",
      "execution_count": null,
      "metadata": {
        "colab": {
          "base_uri": "https://localhost:8080/"
        },
        "id": "pzodbTR3YggF",
        "outputId": "b728cafe-3396-4f9d-d1b4-28bf23fc0fdf"
      },
      "outputs": [],
      "source": [
        "print(FONSEScripMasterDF.to_string())"
      ]
    },
    {
      "cell_type": "code",
      "execution_count": null,
      "metadata": {
        "colab": {
          "base_uri": "https://localhost:8080/",
          "height": 617
        },
        "id": "mViiiumFYggF",
        "outputId": "a55af633-421d-47ac-cf00-6bcc61f2d068"
      },
      "outputs": [],
      "source": [
        "FONSEScripMasterDF[FONSEScripMasterDF[\"ShortName\"]==\"CNXBAN\"]"
      ]
    },
    {
      "cell_type": "markdown",
      "metadata": {
        "id": "X1aLqBD8YggF"
      },
      "source": [
        "### Reading NSE Scrip master"
      ]
    },
    {
      "cell_type": "code",
      "execution_count": null,
      "metadata": {
        "id": "UJ-fXxM_YggF"
      },
      "outputs": [],
      "source": [
        "NSEScripMasterDF=pd.read_csv(NSEScripMastercsv)"
      ]
    },
    {
      "cell_type": "code",
      "execution_count": null,
      "metadata": {
        "colab": {
          "base_uri": "https://localhost:8080/",
          "height": 634
        },
        "id": "S-mZx9oaYggG",
        "outputId": "f1974dd2-7e7f-4a1e-e393-e510114a3309"
      },
      "outputs": [],
      "source": [
        "NSEScripMasterDF"
      ]
    },
    {
      "cell_type": "code",
      "execution_count": null,
      "metadata": {
        "colab": {
          "base_uri": "https://localhost:8080/",
          "height": 182
        },
        "id": "fUJnpZooYggG",
        "outputId": "fb32cf60-6511-4790-e00a-d31bd8f077c9"
      },
      "outputs": [],
      "source": [
        "NSEScripMasterDF[NSEScripMasterDF['ShortName']==\"PERSYS\"]"
      ]
    },
    {
      "cell_type": "code",
      "execution_count": null,
      "metadata": {},
      "outputs": [],
      "source": [
        "NSEScripMasterDF[NSEScripMasterDF['ShortName']==\"CNXBAN\"]"
      ]
    },
    {
      "cell_type": "markdown",
      "metadata": {
        "id": "24bknj4EYggG"
      },
      "source": [
        "## Connect to Web socket for Real Time data"
      ]
    },
    {
      "cell_type": "code",
      "execution_count": null,
      "metadata": {
        "id": "uSKLSki_YggG"
      },
      "outputs": [],
      "source": [
        "session_token=\"34916401\"\n",
        "api_key=\"^42y6975650632#94258t282@r718`77\"\n",
        "api_secret=\"i0td81HE339202156w96102D98497633\""
      ]
    },
    {
      "cell_type": "code",
      "execution_count": null,
      "metadata": {
        "colab": {
          "base_uri": "https://localhost:8080/"
        },
        "id": "Iacq1sWXY_Pf",
        "outputId": "b81ccdad-8961-43bb-d7fa-1bdec31dc9bc"
      },
      "outputs": [],
      "source": [
        "pip install breeze-connect"
      ]
    },
    {
      "cell_type": "code",
      "execution_count": null,
      "metadata": {
        "id": "RYXftmxNYggG"
      },
      "outputs": [],
      "source": [
        "from breeze_connect import BreezeConnect\n",
        "\n",
        "# Initialize SDK\n",
        "breeze = BreezeConnect(api_key=api_key)\n",
        "\n",
        "# Obtain your session key from https://api.icicidirect.com/apiuser/login?api_key=YOUR_API_KEY\n",
        "# Incase your api-key has special characters(like +,=,!) then encode the api key before using in the url as shown below.\n",
        "# import urllib\n",
        "# print(\"https://api.icicidirect.com/apiuser/login?api_key=\"+urllib.parse.quote_plus(api_key))\n",
        "\n",
        "# Generate Session\n",
        "breeze.generate_session(api_secret=api_secret,\n",
        "                        session_token=session_token)\n",
        "\n",
        "# Connect to websocket(it will connect to tick-by-tick data server)\n",
        "breeze.ws_connect()\n",
        "\n",
        "# Callback to receive ticks.\n",
        "def on_ticks(ticks):\n",
        "    print(\"Ticks: {}\".format(ticks))\n",
        "\n",
        "\n",
        "breeze.on_ticks=on_ticks\n"
      ]
    },
    {
      "cell_type": "markdown",
      "metadata": {
        "id": "vtM0jHsDYggG"
      },
      "source": [
        "## Get Customer details"
      ]
    },
    {
      "cell_type": "code",
      "execution_count": null,
      "metadata": {
        "colab": {
          "base_uri": "https://localhost:8080/"
        },
        "id": "70dJ5qtuYggG",
        "outputId": "a404f0a1-22b9-479a-cfbe-d73e864f6caf"
      },
      "outputs": [],
      "source": [
        "data=breeze.get_customer_details(api_session=session_token)\n",
        "jsonData=data[\"Success\"]\n",
        "statusCode=data[\"Status\"]\n",
        "if statusCode!=200:\n",
        "  print (\"Error: \"+data[\"Error\"])\n",
        "else:\n",
        "  successDf=pd.json_normalize(jsonData)\n",
        "  print(successDf.to_string())"
      ]
    },
    {
      "cell_type": "markdown",
      "metadata": {
        "id": "sEsOMGKnYggG"
      },
      "source": [
        "## Get demat holdings"
      ]
    },
    {
      "cell_type": "code",
      "execution_count": null,
      "metadata": {
        "colab": {
          "base_uri": "https://localhost:8080/"
        },
        "id": "hV8tuF5WYggG",
        "outputId": "69dee516-fc2f-48f1-a12d-cbd372b1b97c"
      },
      "outputs": [],
      "source": [
        "data=breeze.get_demat_holdings()\n",
        "jsonData=data[\"Success\"]\n",
        "statusCode=data[\"Status\"]\n",
        "if statusCode!=200:\n",
        "  print (\"Error: \"+data[\"Error\"])\n",
        "else:\n",
        "  successDf=pd.json_normalize(jsonData)\n",
        "  print(successDf.to_string())"
      ]
    },
    {
      "cell_type": "markdown",
      "metadata": {
        "id": "IIihHM--YggG"
      },
      "source": [
        "## Get funds"
      ]
    },
    {
      "cell_type": "code",
      "execution_count": null,
      "metadata": {
        "colab": {
          "base_uri": "https://localhost:8080/",
          "height": 89
        },
        "id": "t3nHG_1SYggH",
        "outputId": "7277cf33-e103-4904-9e16-4a575de9bc13"
      },
      "outputs": [],
      "source": [
        "data=breeze.get_funds()\n",
        "jsonData=data[\"Success\"]\n",
        "statusCode=data[\"Status\"]\n",
        "if statusCode!=200:\n",
        "  print (\"Error: \"+data[\"Error\"].to_string())\n",
        "else:\n",
        "  successDf=pd.json_normalize(jsonData)\n",
        "  print(successDf.to_string())"
      ]
    },
    {
      "cell_type": "markdown",
      "metadata": {
        "id": "pXNxwyrdYggH"
      },
      "source": [
        "## Get Names"
      ]
    },
    {
      "cell_type": "code",
      "execution_count": null,
      "metadata": {
        "colab": {
          "base_uri": "https://localhost:8080/",
          "height": 89
        },
        "id": "79yt2AySYggP",
        "outputId": "0d6e204f-a941-410c-c568-7f9c908fb087"
      },
      "outputs": [],
      "source": [
        "jsonStockName=breeze.get_names(exchange_code = 'NSE',stock_code = 'CNXBAN')\n",
        "statusCode=data[\"Status\"]\n",
        "if statusCode!=200:\n",
        "  print (\"Error: \"+data[\"Error\"])\n",
        "else:\n",
        "  successDf=pd.json_normalize(jsonStockName)\n",
        "  print(successDf.to_string())"
      ]
    },
    {
      "cell_type": "markdown",
      "metadata": {
        "id": "3uFwAatLYggP"
      },
      "source": [
        "## Get quote of Stock"
      ]
    },
    {
      "cell_type": "code",
      "execution_count": null,
      "metadata": {
        "colab": {
          "base_uri": "https://localhost:8080/",
          "height": 231
        },
        "id": "w6Omw7aKYggP",
        "outputId": "ee62bdc7-c566-4762-c4d0-ca4630fd5f71"
      },
      "outputs": [],
      "source": [
        "data=breeze.get_quotes(stock_code=\"PERSYS\", exchange_code=\"NSE\",expiry_date=\"\",product_type=\"\",right=\"\",strike_price=\"\")\n",
        "jsonData=data[\"Success\"]\n",
        "statusCode=data[\"Status\"]\n",
        "if statusCode!=200:\n",
        "  print (\"Error: \"+data[\"Error\"])\n",
        "else:\n",
        "  successDf=pd.json_normalize(jsonData)\n",
        "  print(successDf.to_string())"
      ]
    },
    {
      "cell_type": "code",
      "execution_count": null,
      "metadata": {
        "colab": {
          "base_uri": "https://localhost:8080/"
        },
        "id": "L0IVFrU3YggQ",
        "outputId": "106db1b9-0b1f-4100-fa34-71ee22c28b09"
      },
      "outputs": [],
      "source": [
        "data=breeze.get_quotes(stock_code=\"CNXBAN\", exchange_code=\"NFO\",expiry_date=\"29-FEB-2024\",product_type=\"futures\",right=\"\",strike_price=\"\")\n",
        "jsonData=data[\"Success\"]\n",
        "statusCode=data[\"Status\"]\n",
        "if statusCode!=200:\n",
        "  print (\"Error: \"+data[\"Error\"])\n",
        "else:\n",
        "  successDf=pd.json_normalize(jsonData)\n",
        "  print(successDf.to_string())"
      ]
    },
    {
      "cell_type": "markdown",
      "metadata": {
        "id": "FsWMzaBoYggQ"
      },
      "source": [
        "## Get Options Chain Quotes"
      ]
    },
    {
      "cell_type": "code",
      "execution_count": null,
      "metadata": {
        "colab": {
          "base_uri": "https://localhost:8080/"
        },
        "id": "t5lomJ2AYggQ",
        "outputId": "2255d243-bc12-4e97-d409-1553d6a4edc0"
      },
      "outputs": [],
      "source": [
        "data=breeze.get_option_chain_quotes(stock_code=\"CNXBAN\",exchange_code=\"NFO\",expiry_date=\"29-FEB-2024\",product_type=\"options\",right=\"call\",strike_price=\"46000\")\n",
        "jsonData=data[\"Success\"]\n",
        "statusCode=data[\"Status\"]\n",
        "if statusCode!=200:\n",
        "  print (\"Error: \"+data[\"Error\"])\n",
        "else:\n",
        "  successDf=pd.json_normalize(jsonData)\n",
        "  print(successDf.to_string())"
      ]
    },
    {
      "cell_type": "markdown",
      "metadata": {
        "id": "uKUYItiQYggQ"
      },
      "source": [
        "## Get Historical Data"
      ]
    },
    {
      "cell_type": "code",
      "execution_count": null,
      "metadata": {
        "colab": {
          "base_uri": "https://localhost:8080/"
        },
        "id": "oDbz22HAYggQ",
        "outputId": "5cd2ea96-788f-4010-8634-46ee1926b980"
      },
      "outputs": [],
      "source": [
        "data=breeze.get_historical_data(interval=\"1minute\",from_date=\"2023-10-27T09:15:00.000Z\",to_date=\"2024-02-10T15:30:00.000Z\",stock_code=\"CNXBAN\",exchange_code=\"NFO\",product_type=\"options\", expiry_date=\"25-JAN-2024\",right=\"call\",strike_price=\"45000\")\n",
        "jsonData=data[\"Success\"]\n",
        "statusCode=data[\"Status\"]\n",
        "if statusCode!=200:\n",
        "  print (\"Error: \"+data[\"Error\"])\n",
        "else:\n",
        "  successDf=pd.json_normalize(jsonData)\n",
        "  print(successDf.to_string())"
      ]
    },
    {
      "cell_type": "markdown",
      "metadata": {
        "id": "XXFpwcUiYggQ"
      },
      "source": [
        "## Subscribe to stock using Token"
      ]
    },
    {
      "cell_type": "code",
      "execution_count": null,
      "metadata": {
        "id": "3WiDtn1bYggQ"
      },
      "outputs": [],
      "source": [
        "# subscribe stocks feeds by stock-token\n",
        "'''Template for stock_token : X.Y! X : exchange code Y : Market Level data Token : ISEC stock code\n",
        "\n",
        "Value of X can be : 1 for BSE, 4 for NSE, 13 for NDX, 6 for MCX, 4 for NFO,\n",
        "\n",
        "Value of Y can be : 1 for Level 1 data, 2 for Level 2 data\n",
        "'''\n",
        "NSEStockDf=NSEScripMasterDF[NSEScripMasterDF['ShortName']==\"CNXBAN\"]\n",
        "NSEStockToken=NSEStockDf['Token'].array[0]\n",
        "NSELevel1Token='4.1!'+NSEStockToken\n",
        "NSELevel2Token='4.2!'+NSEStockToken\n",
        "breeze.subscribe_feeds(stock_token=NSELevel1Token)\n",
        "breeze.subscribe_feeds(stock_token=NSELevel2Token)\n"
      ]
    },
    {
      "cell_type": "markdown",
      "metadata": {
        "id": "CvvvHIkAYggR"
      },
      "source": [
        "## Unsubscribe to stock using Token"
      ]
    },
    {
      "cell_type": "code",
      "execution_count": null,
      "metadata": {
        "id": "VlCMV8ZzYggR"
      },
      "outputs": [],
      "source": [
        "# unsubscribe stocks feeds by stock-token\n",
        "NSEStockDf=NSEScripMasterDF[NSEScripMasterDF['ShortName']==\"CNXBAN\"]\n",
        "NSEStockToken=NSEStockDf['Token'].array[0]\n",
        "NSELevel1Token='4.1!'+NSEStockToken\n",
        "NSELevel2Token='4.2!'+NSEStockToken\n",
        "breeze.unsubscribe_feeds(stock_token=NSELevel1Token)\n",
        "breeze.unsubscribe_feeds(stock_token=NSELevel2Token)"
      ]
    },
    {
      "cell_type": "markdown",
      "metadata": {
        "id": "wPUT8DAQYggR"
      },
      "source": [
        "## Subscribe to stock feeds"
      ]
    },
    {
      "cell_type": "code",
      "execution_count": null,
      "metadata": {
        "id": "LJ_RMeCaYggR"
      },
      "outputs": [],
      "source": [
        "# subscribe stocks feeds\n",
        "breeze.subscribe_feeds(exchange_code=\"NSE\", stock_code=\"PERSYS\", product_type=\"\", expiry_date=\"\", strike_price=\"\", right=\"\", get_exchange_quotes=True, get_market_depth=True)"
      ]
    },
    {
      "cell_type": "markdown",
      "metadata": {
        "id": "bDulc8gaYggR"
      },
      "source": [
        "## Unsubscribe to stock feeds"
      ]
    },
    {
      "cell_type": "code",
      "execution_count": null,
      "metadata": {
        "id": "H4PkSJt3YggR"
      },
      "outputs": [],
      "source": [
        "# unsubscribe stocks feeds\n",
        "breeze.unsubscribe_feeds(exchange_code=\"NSE\", stock_code=\"PERSYS\", product_type=\"\", expiry_date=\"\", strike_price=\"\", right=\"\", get_exchange_quotes=True, get_market_depth=True)"
      ]
    },
    {
      "cell_type": "markdown",
      "metadata": {},
      "source": [
        "## Get Order"
      ]
    },
    {
      "cell_type": "markdown",
      "metadata": {},
      "source": [
        "### List"
      ]
    },
    {
      "cell_type": "code",
      "execution_count": null,
      "metadata": {},
      "outputs": [],
      "source": [
        "breeze.get_order_list(exchange_code=\"NSE\",\n",
        "                        from_date=\"2022-08-01T10:00:00.000Z\",\n",
        "                        to_date=\"2022-08-19T10:00:00.000Z\")"
      ]
    },
    {
      "cell_type": "markdown",
      "metadata": {},
      "source": [
        "### Cancel Order"
      ]
    },
    {
      "cell_type": "code",
      "execution_count": null,
      "metadata": {},
      "outputs": [],
      "source": [
        "breeze.cancel_order(exchange_code=\"NSE\",\n",
        "                    order_id=\"20220819N100000001\")"
      ]
    },
    {
      "cell_type": "markdown",
      "metadata": {},
      "source": [
        "### Modify Order"
      ]
    },
    {
      "cell_type": "code",
      "execution_count": null,
      "metadata": {},
      "outputs": [],
      "source": [
        "breeze.modify_order(order_id=\"202208191100000001\",\n",
        "                    exchange_code=\"NFO\",\n",
        "                    order_type=\"limit\",\n",
        "                    stoploss=\"0\",\n",
        "                    quantity=\"250\",\n",
        "                    price=\"290100\",\n",
        "                    validity=\"day\",\n",
        "                    disclosed_quantity=\"0\",\n",
        "                    validity_date=\"2022-08-22T06:00:00.000Z\")"
      ]
    },
    {
      "cell_type": "markdown",
      "metadata": {},
      "source": [
        "## Get Trade"
      ]
    },
    {
      "cell_type": "markdown",
      "metadata": {},
      "source": [
        "### List"
      ]
    },
    {
      "cell_type": "code",
      "execution_count": null,
      "metadata": {},
      "outputs": [],
      "source": [
        "breeze.get_trade_list(from_date=\"2022-08-01T06:00:00.000Z\",\n",
        "                        to_date=\"2022-08-19T06:00:00.000Z\",\n",
        "                        exchange_code=\"NSE\",\n",
        "                        product_type=\"\",\n",
        "                        action=\"\",\n",
        "                        stock_code=\"\")"
      ]
    },
    {
      "cell_type": "markdown",
      "metadata": {},
      "source": [
        "### Details"
      ]
    },
    {
      "cell_type": "code",
      "execution_count": null,
      "metadata": {},
      "outputs": [],
      "source": [
        "breeze.get_trade_detail(exchange_code=\"NSE\",\n",
        "                        order_id=\"20220819N100000005\")"
      ]
    },
    {
      "cell_type": "markdown",
      "metadata": {},
      "source": [
        "## Place Order"
      ]
    },
    {
      "cell_type": "markdown",
      "metadata": {},
      "source": [
        "### Buy Nifty Call Option"
      ]
    },
    {
      "cell_type": "code",
      "execution_count": null,
      "metadata": {},
      "outputs": [],
      "source": [
        "stock_code=\"NIFTY\",\n",
        "exchange_code=\"NFO\",\n",
        "product=\"options\",\n",
        "action=\"buy\",\n",
        "order_type=\"market\",\n",
        "stoploss=\"\",\n",
        "quantity=\"50\",\n",
        "price=\"\",\n",
        "validity=\"day\",\n",
        "validity_date=\"2022-08-30T06:00:00.000Z\",\n",
        "disclosed_quantity=\"0\",\n",
        "expiry_date=\"2022-09-29T06:00:00.000Z\",\n",
        "right=\"call\",\n",
        "strike_price=\"16600\""
      ]
    },
    {
      "cell_type": "code",
      "execution_count": null,
      "metadata": {},
      "outputs": [],
      "source": [
        "breeze.place_order(stock_code=\"NIFTY\",\n",
        "                    exchange_code=\"NFO\",\n",
        "                    product=\"options\",\n",
        "                    action=\"buy\",\n",
        "                    order_type=\"market\",\n",
        "                    stoploss=\"\",\n",
        "                    quantity=\"50\",\n",
        "                    price=\"\",\n",
        "                    validity=\"day\",\n",
        "                    validity_date=\"2022-08-30T06:00:00.000Z\",\n",
        "                    disclosed_quantity=\"0\",\n",
        "                    expiry_date=\"2022-09-29T06:00:00.000Z\",\n",
        "                    right=\"call\",\n",
        "                    strike_price=\"16600\")"
      ]
    },
    {
      "cell_type": "markdown",
      "metadata": {},
      "source": [
        "### SquareOff Nifty call Option"
      ]
    },
    {
      "cell_type": "code",
      "execution_count": null,
      "metadata": {},
      "outputs": [],
      "source": [
        "breeze.square_off(exchange_code=\"NFO\",\n",
        "                    product=\"options\",\n",
        "                    stock_code=\"NIFTY\",\n",
        "                    expiry_date=\"2022-08-25T06:00:00.000Z\",\n",
        "                    right=\"Call\",\n",
        "                    strike_price=\"16600\",\n",
        "                    action=\"sell\",\n",
        "                    order_type=\"market\",\n",
        "                    validity=\"day\",\n",
        "                    stoploss=\"0\",\n",
        "                    quantity=\"50\",\n",
        "                    price=\"0\",\n",
        "                    validity_date=\"2022-08-12T06:00:00.000Z\",\n",
        "                    trade_password=\"\",\n",
        "                    disclosed_quantity=\"0\")"
      ]
    }
  ],
  "metadata": {
    "colab": {
      "collapsed_sections": [
        "dls0osZvYggE",
        "UK02lpq8YggF",
        "W-ZFR6MqYggF"
      ],
      "provenance": []
    },
    "kernelspec": {
      "display_name": ".venv",
      "language": "python",
      "name": "python3"
    },
    "language_info": {
      "codemirror_mode": {
        "name": "ipython",
        "version": 3
      },
      "file_extension": ".py",
      "mimetype": "text/x-python",
      "name": "python",
      "nbconvert_exporter": "python",
      "pygments_lexer": "ipython3",
      "version": "3.10.11"
    }
  },
  "nbformat": 4,
  "nbformat_minor": 0
}
